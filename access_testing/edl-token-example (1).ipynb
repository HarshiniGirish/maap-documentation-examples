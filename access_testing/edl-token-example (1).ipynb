{
 "cells": [
  {
   "cell_type": "code",
   "execution_count": 59,
   "id": "018b6eca",
   "metadata": {},
   "outputs": [],
   "source": [
    "import base64\n",
    "from datetime import datetime\n",
    "import getpass\n",
    "import json\n",
    "import requests\n",
    "from requests.auth import HTTPBasicAuth"
   ]
  },
  {
   "cell_type": "markdown",
   "id": "8b50a274",
   "metadata": {},
   "source": [
    "This notebook details how to create and use EDL tokens to request data from NASA."
   ]
  },
  {
   "cell_type": "code",
   "execution_count": 44,
   "id": "c71be34a",
   "metadata": {},
   "outputs": [
    {
     "name": "stdin",
     "output_type": "stream",
     "text": [
      "EDL Username aimeeb\n",
      "EDL Password ··················\n"
     ]
    }
   ],
   "source": [
    "username = input('EDL Username')\n",
    "password = getpass.getpass('EDL Password')"
   ]
  },
  {
   "cell_type": "code",
   "execution_count": 60,
   "id": "313f56fe",
   "metadata": {},
   "outputs": [],
   "source": [
    "def find_or_get_token():\n",
    "    urs_endoint = 'https://urs.earthdata.nasa.gov/api/users/token'\n",
    "    # first try and retrieve an active token\n",
    "    token_response = requests.get(f\"{urs_endoint}s\", auth=HTTPBasicAuth(username, password))\n",
    "    error_message = \"Attempting to get a existing tokens returned an error: {status_code} - {content}\"\n",
    "    if token_response.status_code != 200:\n",
    "        return error_message.format(status_code=token_response.status_code, content=token_response.content)\n",
    "    else:\n",
    "        tokens = json.loads(token_response.content)\n",
    "        for token in tokens:\n",
    "            x_date = datetime.now()\n",
    "            # I'm not sure if expired tokens are automatically deleted, need to ask\n",
    "            # if not - should we revoke them?\n",
    "            if token['expiration_date'] > x_date.strftime('%d/%m/%Y'):\n",
    "                return token['access_token']\n",
    "\n",
    "    # no active tokens were found      \n",
    "    error_message = \"Attempting to create a new token returned an error: {status_code} - {content}\"    \n",
    "    token_response = requests.post(urs_endoint, auth=HTTPBasicAuth(username, password))\n",
    "    if token_response.status_code != 200:\n",
    "        return error_message.format(status_code=token_response.status_code, content=token_response.content)\n",
    "    return json.loads(token_response.content)['access_token']"
   ]
  },
  {
   "cell_type": "code",
   "execution_count": 95,
   "id": "8f53f672",
   "metadata": {},
   "outputs": [],
   "source": [
    "# Simplified version of https://github.com/MAAP-Project/maap-py/blob/master/maap/Result.py#L89-L111\n",
    "# This was tested and working for GEDI02_A.002 but not SENTINEL-1A_SLC\n",
    "# From https://urs.earthdata.nasa.gov/users/aimeeb/user_tokens\n",
    "# You can generate a bearer token for federated token access sharing. Not all EDL applications support Federated token access sharing.\n",
    "# You may have up to 2 active tokens at a time.\n",
    "# The token can then be passed into an application by using an Authorization: Bearer header\n",
    "# The token will only authorize for applications that are EDL compliant and do not have unapproved EULAs\n",
    "import os\n",
    "import shutil\n",
    "def get_data(url, destfile, destpath = '.'):\n",
    "    api_header = {\n",
    "        'Authorization': f\"Bearer {find_or_get_token()}\"\n",
    "    }\n",
    "    r = requests.get(\n",
    "        url=url,\n",
    "        headers=api_header,\n",
    "        stream=True\n",
    "    )\n",
    "\n",
    "    if r.status_code != 200:\n",
    "        raise ValueError('Bad search response for url {}: {}'.format(url, r.text))\n",
    "    print(r.status_code)\n",
    "\n",
    "    r.raw.decode_content = True\n",
    "\n",
    "    with open(destpath + \"/\" + destfile, 'wb') as f:\n",
    "        shutil.copyfileobj(r.raw, f)\n",
    "\n",
    "    return destpath + '/' + destfile"
   ]
  },
  {
   "cell_type": "code",
   "execution_count": 96,
   "id": "91bb09c4",
   "metadata": {},
   "outputs": [
    {
     "name": "stdout",
     "output_type": "stream",
     "text": [
      "200\n"
     ]
    },
    {
     "data": {
      "text/plain": [
       "'./GEDI02_A_2022243234134_O21062_01_T10906_02_003_02_V002.h5'"
      ]
     },
     "execution_count": 96,
     "metadata": {},
     "output_type": "execute_result"
    }
   ],
   "source": [
    "url = 'https://e4ftl01.cr.usgs.gov//GEDI_L1_L2/GEDI/GEDI02_A.002/2022.08.31/GEDI02_A_2022243234134_O21062_01_T10906_02_003_02_V002.h5'\n",
    "destfile = url.split('/')[-1]\n",
    "get_data(url, destfile)"
   ]
  }
 ],
 "metadata": {
  "kernelspec": {
   "display_name": "Python 3 (ipykernel)",
   "language": "python",
   "name": "python3"
  },
  "language_info": {
   "codemirror_mode": {
    "name": "ipython",
    "version": 3
   },
   "file_extension": ".py",
   "mimetype": "text/x-python",
   "name": "python",
   "nbconvert_exporter": "python",
   "pygments_lexer": "ipython3",
   "version": "3.7.8"
  }
 },
 "nbformat": 4,
 "nbformat_minor": 5
}
