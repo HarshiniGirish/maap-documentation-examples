{
 "cells": [
  {
   "cell_type": "markdown",
   "id": "norman-hollow",
   "metadata": {},
   "source": [
    "# Subsetting GEDI L4A Example\n",
    "\n",
    "## [Optional] Install Python Packages\n",
    "\n",
    "This notebook contains some cells marked as optional, meaning that you can use this notebook without necessarily running such cells.\n",
    "\n",
    "However, if you do wish to run the optional cells, you must install the following Python packages, which might not already be installed in your environment:\n",
    "\n",
    "- `geopandas`: for reading your AOI (GeoJson file), as well as for reading the job output (GeoPackage file containing the subset)\n",
    "- `contextily`: for visually verifying your AOI\n",
    "- `backoff`: for repeatedly polling the job status (after submission) until the job has completed (either successfully or not)\n",
    "\n",
    "A job can be submitted without these packages, but installing them in order to run the optional cells may make it more convenient for you to visually verify both your AOI and the subset output produced by your job.\n",
    "\n",
    "## Obtain Username"
   ]
  },
  {
   "cell_type": "code",
   "execution_count": 1,
   "id": "irish-white",
   "metadata": {
    "tags": []
   },
   "outputs": [
    {
     "data": {
      "text/plain": [
       "'kylebarron_devseed'"
      ]
     },
     "execution_count": 1,
     "metadata": {},
     "output_type": "execute_result"
    }
   ],
   "source": [
    "from maap.maap import MAAP\n",
    "\n",
    "maap = MAAP(maap_host=\"api.maap-project.org\")\n",
    "username = maap.profile.account_info()[\"username\"]\n",
    "username"
   ]
  },
  {
   "cell_type": "markdown",
   "id": "distributed-concern",
   "metadata": {},
   "source": [
    "## Define Area of Interest\n",
    "\n",
    "You may use either a publicly available GeoJSON file for your AOI, such as\n",
    "those available at [geoBoundaries](https://www.geoboundaries.org), or you\n",
    "may create a custom GeoJSON file for your AOI.  The following 2 subsections\n",
    "cover both cases.\n",
    "\n",
    "### Using a geoBoundary GeoJSON File\n",
    "\n",
    "If your AOI is a publicly available geoBoundary, you can obtain the URL for the\n",
    "GeoJSON file using the function below.  You simply need to supply an ISO3 value\n",
    "and a level.  To find the appropriate ISO3 and level values, see the\n",
    "[table on the geoBoundaries site](https://www.geoboundaries.org/index.html#getdata)."
   ]
  },
  {
   "cell_type": "code",
   "execution_count": 3,
   "id": "frequent-citizenship",
   "metadata": {
    "tags": []
   },
   "outputs": [],
   "source": [
    "import requests\n",
    "\n",
    "\n",
    "def get_geo_boundary_url(iso3: str, level: int) -> str:\n",
    "    response = requests.get(\n",
    "        f\"https://www.geoboundaries.org/api/current/gbOpen/{iso3}/ADM{level}\"\n",
    "    )\n",
    "    response.raise_for_status()\n",
    "    return response.json()[\"gjDownloadURL\"]\n",
    "\n",
    "\n",
    "# If using a geoBoundary, uncomment the following assignment, supply\n",
    "# appropriate values for `<iso3>` and `<level>`, then run this cell.\n",
    "\n",
    "# Example (Gabon level 0): get_geo_boundary(\"GAB\", 0)\n",
    "\n",
    "aoi = get_geo_boundary_url(\"GAB\", 0)"
   ]
  },
  {
   "cell_type": "code",
   "execution_count": 4,
   "id": "082d2c28-66cc-415d-9b6e-8c27a36530c7",
   "metadata": {
    "tags": []
   },
   "outputs": [
    {
     "data": {
      "text/plain": [
       "'https://github.com/wmgeolab/geoBoundaries/raw/c0ed7b8/releaseData/gbOpen/GAB/ADM0/geoBoundaries-GAB-ADM0.geojson'"
      ]
     },
     "execution_count": 4,
     "metadata": {},
     "output_type": "execute_result"
    }
   ],
   "source": [
    "aoi"
   ]
  },
  {
   "cell_type": "markdown",
   "id": "present-minority",
   "metadata": {},
   "source": [
    "### Using a Custom GeoJSON File\n",
    "\n",
    "Alternatively, you can make your own GeoJSON file for your AOI and place it\n",
    "within your `my-public-bucket` folder within the ADE.\n",
    "\n",
    "Based upon where you place your GeoJSON file under `my-public-bucket`, you can\n",
    "construct the URL for a job's `aoi` input value.\n",
    "\n",
    "For example, if the relative path of your AOI GeoJSON file under\n",
    "`my-public-bucket` is `path/to/my-aoi.geojson` (avoid using whitespace in the\n",
    "path and filename), the URL you would supply as the value of a job's `aoi`\n",
    "input would be the following (where `{username}` is replaced with your username\n",
    "as output from the previous section):\n",
    "\n",
    "```\n",
    "f\"https://maap-ops-workspace.s3.amazonaws.com/shared/{username}/path/to/my-aoi.geojson\"`\n",
    "```\n",
    "\n",
    "If this is the case, use the cell below."
   ]
  },
  {
   "cell_type": "code",
   "execution_count": 24,
   "id": "white-stocks",
   "metadata": {},
   "outputs": [],
   "source": [
    "# If using a GeoJSON placed somewhere under your `my-public-bucket` folder,\n",
    "# uncomment the following assignment, adjust the path as necessary, then run\n",
    "# this cell.\n",
    "\n",
    "# aoi = f\"https://maap-ops-workspace.s3.amazonaws.com/shared/{username}/path/to/my-aoi.geojson\""
   ]
  },
  {
   "cell_type": "markdown",
   "id": "awful-internship",
   "metadata": {},
   "source": [
    "## [Optional] Visually Verify your AOI\n",
    "\n",
    "If you want to visually verify your AOI before proceeding, you may run the following cell, if you have the `geopandas` and `contextily` Python packages installed."
   ]
  },
  {
   "cell_type": "code",
   "execution_count": 2,
   "id": "simplified-supplier",
   "metadata": {
    "tags": []
   },
   "outputs": [
    {
     "name": "stdout",
     "output_type": "stream",
     "text": [
      "If you wish to visually verify your AOI, you must install the `geopandas` and `contextily` packages.\n"
     ]
    }
   ],
   "source": [
    "try:\n",
    "    import geopandas as gpd\n",
    "    import contextily as ctx\n",
    "except:\n",
    "    print(\n",
    "        \"If you wish to visually verify your AOI, \"\n",
    "        \"you must install the `geopandas` and `contextily` packages.\"\n",
    "    )\n",
    "else:\n",
    "    aoi_gdf = gpd.read_file(aoi)\n",
    "    aoi_epsg4326 = aoi_gdf.to_crs(epsg=4326)\n",
    "    ax = aoi_epsg4326.plot(figsize=(10, 5), alpha=0.3, edgecolor=\"red\")\n",
    "    ctx.add_basemap(ax, crs=4326)"
   ]
  },
  {
   "cell_type": "markdown",
   "id": "executive-receipt",
   "metadata": {},
   "source": [
    "## Submit a Job\n",
    "\n",
    "See README.md for documentation regarding the inputs"
   ]
  },
  {
   "cell_type": "code",
   "execution_count": 13,
   "id": "geographic-capacity",
   "metadata": {
    "tags": []
   },
   "outputs": [
    {
     "data": {
      "text/plain": [
       "'edff13ff-0ece-414d-b31f-f28da09b80be'"
      ]
     },
     "execution_count": 13,
     "metadata": {},
     "output_type": "execute_result"
    }
   ],
   "source": [
    "inputs = dict(\n",
    "    aoi=aoi,\n",
    "    doi=\"L4A\",\n",
    "    lat=\"lat_lowestmode\",\n",
    "    lon=\"lon_lowestmode\",\n",
    "    beams=\"coverage\",\n",
    "    columns=\"agbd, agbd_se, sensitivity, geolocation/sensitivity_a2, elev_lowestmode\",\n",
    "    query=\"l2_quality_flag == 1 and l4_quality_flag == 1 and sensitivity > 0.95 and `geolocation/sensitivity_a2` > 0.95\",\n",
    "    limit=10,\n",
    "    temporal=\"-\",\n",
    "    output=\"gedi_subset.gpkg\",\n",
    ")\n",
    "\n",
    "result = maap.submitJob(\n",
    "    identifier=\"gedi-subset\",\n",
    "    algo_id=\"gedi-subset\",\n",
    "    version=\"0.6.1\",\n",
    "    queue=\"maap-dps-worker-32gb\",\n",
    "    username=username,\n",
    "    **inputs,\n",
    ")\n",
    "\n",
    "job_id = result.id\n",
    "job_id or result"
   ]
  },
  {
   "cell_type": "markdown",
   "id": "covered-importance",
   "metadata": {},
   "source": [
    "## Get the Job's Output File\n",
    "\n",
    "Now that the job has been submitted, we can use the `job_id` to check the job\n",
    "status until the job has completed."
   ]
  },
  {
   "cell_type": "code",
   "execution_count": 2,
   "id": "ancient-great",
   "metadata": {
    "tags": []
   },
   "outputs": [],
   "source": [
    "from urllib.parse import urlparse\n",
    "\n",
    "\n",
    "def job_status_for(job_id: str) -> str:\n",
    "    return maap.getJobStatus(job_id)\n",
    "\n",
    "\n",
    "def job_result_for(job_id: str) -> str:\n",
    "    return maap.getJobResult(job_id)[0]\n",
    "\n",
    "\n",
    "def to_job_output_dir(job_result_url: str) -> str:\n",
    "    return f\"/projects/my-private-bucket/{job_result_url.split(f'/{username}/')[1]}\""
   ]
  },
  {
   "cell_type": "markdown",
   "id": "aerial-fancy",
   "metadata": {},
   "source": [
    "If you have installed the `backoff` Python package, running the following cell\n",
    "will automatically repeatedly check your job's status until the job has\n",
    "completed. Otherwise, you will have to manually repeatedly rerun the following\n",
    "cell until the output is either `'Suceeded'` or `'Failed'`."
   ]
  },
  {
   "cell_type": "code",
   "execution_count": null,
   "id": "severe-atlas",
   "metadata": {
    "tags": []
   },
   "outputs": [
    {
     "name": "stderr",
     "output_type": "stream",
     "text": [
      "INFO:backoff:Backing off wait_for_job(...) for 97.7s (Accepted)\n",
      "INFO:backoff:Backing off wait_for_job(...) for 96.1s (Accepted)\n",
      "INFO:backoff:Backing off wait_for_job(...) for 54.3s (Accepted)\n",
      "INFO:backoff:Backing off wait_for_job(...) for 92.2s (Accepted)\n",
      "INFO:backoff:Backing off wait_for_job(...) for 81.1s (Accepted)\n",
      "INFO:backoff:Backing off wait_for_job(...) for 115.6s (Running)\n"
     ]
    }
   ],
   "source": [
    "try:\n",
    "    import backoff\n",
    "except:\n",
    "    job_status = job_status_for(job_id)\n",
    "else:\n",
    "    # Check job status every 2 minutes\n",
    "    @backoff.on_predicate(\n",
    "        backoff.constant,\n",
    "        lambda status: status not in [\"Deleted\", \"Succeeded\", \"Failed\"],\n",
    "        interval=120,\n",
    "    )\n",
    "    def wait_for_job(job_id: str) -> str:\n",
    "        return job_status_for(job_id)\n",
    "\n",
    "    job_status = wait_for_job(job_id)\n",
    "\n",
    "job_status"
   ]
  },
  {
   "cell_type": "code",
   "execution_count": 3,
   "id": "53f64db8-6548-4642-a7a6-8fdc6e4fc741",
   "metadata": {
    "tags": []
   },
   "outputs": [],
   "source": [
    "job_id = 'edff13ff-0ece-414d-b31f-f28da09b80be'"
   ]
  },
  {
   "cell_type": "code",
   "execution_count": 4,
   "id": "constitutional-hungarian",
   "metadata": {
    "tags": []
   },
   "outputs": [
    {
     "name": "stdout",
     "output_type": "stream",
     "text": [
      "Your subset results are in the file /projects/my-private-bucket/dps_output/gedi-subset/0.6.1/gedi-subset/2023/11/06/21/10/29/862045/gedi_subset.gpkg\n"
     ]
    }
   ],
   "source": [
    "output_url = job_result_for(job_id)\n",
    "output_dir = to_job_output_dir(output_url)\n",
    "output_file = f\"{output_dir}/gedi_subset.gpkg\"\n",
    "print(f\"Your subset results are in the file {output_file}\")"
   ]
  },
  {
   "cell_type": "code",
   "execution_count": null,
   "id": "aed4bd73-a6c8-4c9e-9f60-be42ccc7cda9",
   "metadata": {},
   "outputs": [],
   "source": []
  },
  {
   "cell_type": "markdown",
   "id": "sized-cambodia",
   "metadata": {},
   "source": [
    "## [Optional] Visually Verify the Results\n",
    "\n",
    "If you installed the `geopandas` Python package, you can visually verify the\n",
    "output file by running the following cell."
   ]
  },
  {
   "cell_type": "code",
   "execution_count": null,
   "id": "preceding-wealth",
   "metadata": {},
   "outputs": [
    {
     "name": "stdout",
     "output_type": "stream",
     "text": [
      "                                            filename  \\\n",
      "0  GEDI04_A_2019111040155_O02008_02_T04616_02_002...   \n",
      "1  GEDI04_A_2019111040155_O02008_02_T04616_02_002...   \n",
      "2  GEDI04_A_2019111040155_O02008_02_T04616_02_002...   \n",
      "3  GEDI04_A_2019111040155_O02008_02_T04616_02_002...   \n",
      "4  GEDI04_A_2019111040155_O02008_02_T04616_02_002...   \n",
      "\n",
      "   geolocation/sensitivity_a2  elev_lowestmode  sensitivity    agbd_se  \\\n",
      "0                    0.978424        27.771139     0.988014  17.123022   \n",
      "1                    0.979147        25.717270     0.986098  17.124018   \n",
      "2                    0.966114        27.040167     0.966114  17.123966   \n",
      "3                    0.977122        25.912329     0.983985  17.124689   \n",
      "4                    0.983254        25.166182     0.990431  17.123558   \n",
      "\n",
      "         agbd                 geometry  \n",
      "0  141.049683  POINT (9.37300 0.09770)  \n",
      "1   95.756226  POINT (9.37330 0.09812)  \n",
      "2   90.346252  POINT (9.37359 0.09854)  \n",
      "3  113.583145  POINT (9.37389 0.09896)  \n",
      "4   93.160324  POINT (9.37419 0.09939)  \n"
     ]
    },
    {
     "name": "stderr",
     "output_type": "stream",
     "text": [
      "/tmp/ipykernel_389/3567339436.py:12: MatplotlibDeprecationWarning: The get_cmap function was deprecated in Matplotlib 3.7 and will be removed two minor releases later. Use ``matplotlib.colormaps[name]`` or ``matplotlib.colormaps.get_cmap(obj)`` instead.\n",
      "  agbd_colors = plt.cm.get_cmap(\"viridis_r\")\n"
     ]
    },
    {
     "data": {
      "image/png": "[encoded data removed]",
      "text/plain": [
       "<Figure size 640x480 with 1 Axes>"
      ]
     },
     "metadata": {},
     "output_type": "display_data"
    }
   ],
   "source": [
    "try:\n",
    "    import geopandas as gpd\n",
    "    import matplotlib.pyplot as plt\n",
    "except:\n",
    "    print(\n",
    "        \"If you wish to visually verify your output file, \"\n",
    "        \"you must install the `geopandas` package.\"\n",
    "    )\n",
    "else:\n",
    "    gedi_gdf = gpd.read_file(output_file)\n",
    "    print(gedi_gdf.head())\n",
    "    agbd_colors = plt.cm.get_cmap(\"viridis_r\")\n",
    "    gedi_gdf.plot(column=\"agbd\", cmap=agbd_colors)"
   ]
  },
  {
   "cell_type": "code",
   "execution_count": 6,
   "id": "5a4ccef0-3e31-4908-8d5a-6637449f9709",
   "metadata": {
    "tags": []
   },
   "outputs": [
    {
     "data": {
      "text/plain": [
       "<Axes: >"
      ]
     },
     "execution_count": 6,
     "metadata": {},
     "output_type": "execute_result"
    },
    {
     "data": {
      "image/png": "[encoded data removed]",
      "text/plain": [
       "<Figure size 640x480 with 1 Axes>"
      ]
     },
     "metadata": {},
     "output_type": "display_data"
    }
   ],
   "source": [
    "gedi_gdf.plot(column=\"agbd\", cmap=agbd_colors)"
   ]
  },
  {
   "cell_type": "code",
   "execution_count": 12,
   "id": "f24cdc25-9a66-4eeb-8833-8819e8c7fe44",
   "metadata": {
    "tags": []
   },
   "outputs": [],
   "source": [
    "import geopandas as gpd\n",
    "import matplotlib.pyplot as plt"
   ]
  },
  {
   "cell_type": "code",
   "execution_count": 13,
   "id": "f2bd59d1-c10e-4300-af58-7fd48d1a60c0",
   "metadata": {},
   "outputs": [],
   "source": [
    "gedi_gdf = gpd.read_file(output_file)"
   ]
  },
  {
   "cell_type": "code",
   "execution_count": 14,
   "id": "e06f7ef5-4e7f-4602-b535-a9e8851e97d4",
   "metadata": {
    "tags": []
   },
   "outputs": [
    {
     "data": {
      "text/html": [
       "<div>\n",
       "<style scoped>\n",
       "    .dataframe tbody tr th:only-of-type {\n",
       "        vertical-align: middle;\n",
       "    }\n",
       "\n",
       "    .dataframe tbody tr th {\n",
       "        vertical-align: top;\n",
       "    }\n",
       "\n",
       "    .dataframe thead th {\n",
       "        text-align: right;\n",
       "    }\n",
       "</style>\n",
       "<table border=\"1\" class=\"dataframe\">\n",
       "  <thead>\n",
       "    <tr style=\"text-align: right;\">\n",
       "      <th></th>\n",
       "      <th>filename</th>\n",
       "      <th>geolocation/sensitivity_a2</th>\n",
       "      <th>elev_lowestmode</th>\n",
       "      <th>sensitivity</th>\n",
       "      <th>agbd_se</th>\n",
       "      <th>agbd</th>\n",
       "      <th>geometry</th>\n",
       "    </tr>\n",
       "  </thead>\n",
       "  <tbody>\n",
       "    <tr>\n",
       "      <th>0</th>\n",
       "      <td>GEDI04_A_2019111040155_O02008_02_T04616_02_002...</td>\n",
       "      <td>0.978424</td>\n",
       "      <td>27.771139</td>\n",
       "      <td>0.988014</td>\n",
       "      <td>17.123022</td>\n",
       "      <td>141.049683</td>\n",
       "      <td>POINT (9.37300 0.09770)</td>\n",
       "    </tr>\n",
       "    <tr>\n",
       "      <th>1</th>\n",
       "      <td>GEDI04_A_2019111040155_O02008_02_T04616_02_002...</td>\n",
       "      <td>0.979147</td>\n",
       "      <td>25.717270</td>\n",
       "      <td>0.986098</td>\n",
       "      <td>17.124018</td>\n",
       "      <td>95.756226</td>\n",
       "      <td>POINT (9.37330 0.09812)</td>\n",
       "    </tr>\n",
       "    <tr>\n",
       "      <th>2</th>\n",
       "      <td>GEDI04_A_2019111040155_O02008_02_T04616_02_002...</td>\n",
       "      <td>0.966114</td>\n",
       "      <td>27.040167</td>\n",
       "      <td>0.966114</td>\n",
       "      <td>17.123966</td>\n",
       "      <td>90.346252</td>\n",
       "      <td>POINT (9.37359 0.09854)</td>\n",
       "    </tr>\n",
       "    <tr>\n",
       "      <th>3</th>\n",
       "      <td>GEDI04_A_2019111040155_O02008_02_T04616_02_002...</td>\n",
       "      <td>0.977122</td>\n",
       "      <td>25.912329</td>\n",
       "      <td>0.983985</td>\n",
       "      <td>17.124689</td>\n",
       "      <td>113.583145</td>\n",
       "      <td>POINT (9.37389 0.09896)</td>\n",
       "    </tr>\n",
       "    <tr>\n",
       "      <th>4</th>\n",
       "      <td>GEDI04_A_2019111040155_O02008_02_T04616_02_002...</td>\n",
       "      <td>0.983254</td>\n",
       "      <td>25.166182</td>\n",
       "      <td>0.990431</td>\n",
       "      <td>17.123558</td>\n",
       "      <td>93.160324</td>\n",
       "      <td>POINT (9.37419 0.09939)</td>\n",
       "    </tr>\n",
       "    <tr>\n",
       "      <th>...</th>\n",
       "      <td>...</td>\n",
       "      <td>...</td>\n",
       "      <td>...</td>\n",
       "      <td>...</td>\n",
       "      <td>...</td>\n",
       "      <td>...</td>\n",
       "      <td>...</td>\n",
       "    </tr>\n",
       "    <tr>\n",
       "      <th>21966</th>\n",
       "      <td>GEDI04_A_2019114135421_O02061_04_T00905_02_002...</td>\n",
       "      <td>0.953119</td>\n",
       "      <td>60.614189</td>\n",
       "      <td>0.953119</td>\n",
       "      <td>17.132174</td>\n",
       "      <td>20.106747</td>\n",
       "      <td>POINT (9.35043 -0.25745)</td>\n",
       "    </tr>\n",
       "    <tr>\n",
       "      <th>21967</th>\n",
       "      <td>GEDI04_A_2019114135421_O02061_04_T00905_02_002...</td>\n",
       "      <td>0.957411</td>\n",
       "      <td>33.646351</td>\n",
       "      <td>0.970515</td>\n",
       "      <td>17.121845</td>\n",
       "      <td>161.594620</td>\n",
       "      <td>POINT (9.34984 -0.25661)</td>\n",
       "    </tr>\n",
       "    <tr>\n",
       "      <th>21968</th>\n",
       "      <td>GEDI04_A_2019114135421_O02061_04_T00905_02_002...</td>\n",
       "      <td>0.954684</td>\n",
       "      <td>50.559525</td>\n",
       "      <td>0.968628</td>\n",
       "      <td>17.120966</td>\n",
       "      <td>210.619934</td>\n",
       "      <td>POINT (9.34746 -0.25324)</td>\n",
       "    </tr>\n",
       "    <tr>\n",
       "      <th>21969</th>\n",
       "      <td>GEDI04_A_2019114135421_O02061_04_T00905_02_002...</td>\n",
       "      <td>0.979800</td>\n",
       "      <td>68.377655</td>\n",
       "      <td>0.989900</td>\n",
       "      <td>17.125740</td>\n",
       "      <td>168.208191</td>\n",
       "      <td>POINT (9.34716 -0.25281)</td>\n",
       "    </tr>\n",
       "    <tr>\n",
       "      <th>21970</th>\n",
       "      <td>GEDI04_A_2019114135421_O02061_04_T00905_02_002...</td>\n",
       "      <td>0.960103</td>\n",
       "      <td>60.297131</td>\n",
       "      <td>0.974611</td>\n",
       "      <td>17.124104</td>\n",
       "      <td>279.617188</td>\n",
       "      <td>POINT (9.34686 -0.25239)</td>\n",
       "    </tr>\n",
       "  </tbody>\n",
       "</table>\n",
       "<p>21971 rows × 7 columns</p>\n",
       "</div>"
      ],
      "text/plain": [
       "                                                filename  \\\n",
       "0      GEDI04_A_2019111040155_O02008_02_T04616_02_002...   \n",
       "1      GEDI04_A_2019111040155_O02008_02_T04616_02_002...   \n",
       "2      GEDI04_A_2019111040155_O02008_02_T04616_02_002...   \n",
       "3      GEDI04_A_2019111040155_O02008_02_T04616_02_002...   \n",
       "4      GEDI04_A_2019111040155_O02008_02_T04616_02_002...   \n",
       "...                                                  ...   \n",
       "21966  GEDI04_A_2019114135421_O02061_04_T00905_02_002...   \n",
       "21967  GEDI04_A_2019114135421_O02061_04_T00905_02_002...   \n",
       "21968  GEDI04_A_2019114135421_O02061_04_T00905_02_002...   \n",
       "21969  GEDI04_A_2019114135421_O02061_04_T00905_02_002...   \n",
       "21970  GEDI04_A_2019114135421_O02061_04_T00905_02_002...   \n",
       "\n",
       "       geolocation/sensitivity_a2  elev_lowestmode  sensitivity    agbd_se  \\\n",
       "0                        0.978424        27.771139     0.988014  17.123022   \n",
       "1                        0.979147        25.717270     0.986098  17.124018   \n",
       "2                        0.966114        27.040167     0.966114  17.123966   \n",
       "3                        0.977122        25.912329     0.983985  17.124689   \n",
       "4                        0.983254        25.166182     0.990431  17.123558   \n",
       "...                           ...              ...          ...        ...   \n",
       "21966                    0.953119        60.614189     0.953119  17.132174   \n",
       "21967                    0.957411        33.646351     0.970515  17.121845   \n",
       "21968                    0.954684        50.559525     0.968628  17.120966   \n",
       "21969                    0.979800        68.377655     0.989900  17.125740   \n",
       "21970                    0.960103        60.297131     0.974611  17.124104   \n",
       "\n",
       "             agbd                  geometry  \n",
       "0      141.049683   POINT (9.37300 0.09770)  \n",
       "1       95.756226   POINT (9.37330 0.09812)  \n",
       "2       90.346252   POINT (9.37359 0.09854)  \n",
       "3      113.583145   POINT (9.37389 0.09896)  \n",
       "4       93.160324   POINT (9.37419 0.09939)  \n",
       "...           ...                       ...  \n",
       "21966   20.106747  POINT (9.35043 -0.25745)  \n",
       "21967  161.594620  POINT (9.34984 -0.25661)  \n",
       "21968  210.619934  POINT (9.34746 -0.25324)  \n",
       "21969  168.208191  POINT (9.34716 -0.25281)  \n",
       "21970  279.617188  POINT (9.34686 -0.25239)  \n",
       "\n",
       "[21971 rows x 7 columns]"
      ]
     },
     "execution_count": 14,
     "metadata": {},
     "output_type": "execute_result"
    }
   ],
   "source": [
    "gedi_gdf"
   ]
  },
  {
   "cell_type": "code",
   "execution_count": 7,
   "id": "1f684efb-96a4-4d6b-89e2-afab2ea5bb52",
   "metadata": {
    "tags": []
   },
   "outputs": [],
   "source": [
    "from lonboard import Map, ScatterplotLayer"
   ]
  },
  {
   "cell_type": "code",
   "execution_count": 12,
   "id": "52cb7649-506b-4d31-8534-ccf5c8b9580a",
   "metadata": {
    "tags": []
   },
   "outputs": [],
   "source": [
    "from lonboard import viz"
   ]
  },
  {
   "cell_type": "code",
   "execution_count": 21,
   "id": "a8ddf016-6984-40a3-af00-c9bd57a75515",
   "metadata": {
    "tags": []
   },
   "outputs": [],
   "source": [
    "layer = ScatterplotLayer.from_geopandas(gedi_gdf)\n",
    "map_ = Map(layers=[layer])"
   ]
  },
  {
   "cell_type": "code",
   "execution_count": 22,
   "id": "01a60656-189b-4bb3-9c95-a6774749295b",
   "metadata": {
    "tags": []
   },
   "outputs": [
    {
     "data": {
      "application/vnd.jupyter.widget-view+json": {
       "model_id": "ae5c9f68ef4f4b1383f692e1d7dd7645",
       "version_major": 2,
       "version_minor": 0
      },
      "text/plain": [
       "Map(layers=[ScatterplotLayer(table=pyarrow.Table\n",
       "filename: string\n",
       "geolocation/sensitivity_a2: double\n",
       "elev_lowe…"
      ]
     },
     "metadata": {},
     "output_type": "display_data"
    }
   ],
   "source": [
    "map_"
   ]
  },
  {
   "cell_type": "code",
   "execution_count": 23,
   "id": "5d7fa592-2e41-4716-9059-86d0d126d6e6",
   "metadata": {
    "tags": []
   },
   "outputs": [],
   "source": [
    "layer.get_fill_color = [255, 0, 0]"
   ]
  },
  {
   "cell_type": "code",
   "execution_count": 25,
   "id": "39fff513-134b-4cc2-93c8-116c24133558",
   "metadata": {
    "tags": []
   },
   "outputs": [],
   "source": [
    "layer.radius_min_pixels = 2"
   ]
  },
  {
   "cell_type": "code",
   "execution_count": null,
   "id": "4e14f585-9ae1-4fe9-a829-43eb351600fd",
   "metadata": {},
   "outputs": [],
   "source": []
  }
 ],
 "metadata": {
  "kernelspec": {
   "display_name": "Python 3 (ipykernel)",
   "language": "python",
   "name": "python3"
  },
  "language_info": {
   "codemirror_mode": {
    "name": "ipython",
    "version": 3
   },
   "file_extension": ".py",
   "mimetype": "text/x-python",
   "name": "python",
   "nbconvert_exporter": "python",
   "pygments_lexer": "ipython3",
   "version": "3.10.12"
  }
 },
 "nbformat": 4,
 "nbformat_minor": 5
}
