{
 "cells": [
  {
   "cell_type": "markdown",
   "id": "norman-hollow",
   "metadata": {},
   "source": [
    "# Example of Lonboard with GEDI L4A\n",
    "\n",
    "[Lonboard](https://developmentseed.org/lonboard) is a new Python library for fast, interactive geospatial vector data visualization in Jupyter. By utilizing new technologies like [GeoArrow](https://github.com/geoarrow/geoarrow) and [GeoParquet](https://github.com/opengeospatial/geoparquet) in conjunction with [GPU-based map rendering](https://deck.gl/), lonboard aims to enable visualizing large geospatial datasets interactively through a simple interface.\n",
    "\n",
    "## Install Required Python Packages\n",
    "\n",
    "[`lonboard`](https://github.com/developmentseed/lonboard) is a required dependency of this notebook. Install with\n",
    "\n",
    "```\n",
    "pip install lonboard pyogrio\n",
    "```\n",
    "\n",
    "Then **reload your browser tab** to ensure that the JavaScript parts of lonboard are correctly loaded onto the page."
   ]
  },
  {
   "cell_type": "code",
   "execution_count": 1,
   "id": "d480dc5a-156a-4000-a207-0aaa3bd771ea",
   "metadata": {
    "tags": []
   },
   "outputs": [],
   "source": [
    "# !pip install lonboard pyogrio"
   ]
  },
  {
   "cell_type": "markdown",
   "id": "c1ff55e4-4cd9-4198-877a-2b0a9e1ab771",
   "metadata": {},
   "source": [
    "This notebook will use existing output from a previous run of the GEDI subsetter, loading shared data from a shared bucket `dschuck`:"
   ]
  },
  {
   "cell_type": "code",
   "execution_count": 2,
   "id": "aa0848d5-342d-4db3-9d6c-7dc7f027c58c",
   "metadata": {
    "tags": []
   },
   "outputs": [],
   "source": [
    "path = \"/projects/shared-buckets/dschuck/gedi-subset-examples/GNQ-L4A-subset2.gpkg\""
   ]
  },
  {
   "cell_type": "markdown",
   "id": "0f50d139-9480-42a0-ac24-63e379d84b14",
   "metadata": {},
   "source": [
    "### Imports\n"
   ]
  },
  {
   "cell_type": "code",
   "execution_count": 3,
   "id": "f44e087e-c053-442b-ae28-3cad09e6812f",
   "metadata": {
    "tags": []
   },
   "outputs": [],
   "source": [
    "import geopandas as gpd\n",
    "import matplotlib as mpl\n",
    "from lonboard import ScatterplotLayer, Map\n",
    "from lonboard.colormap import apply_continuous_cmap"
   ]
  },
  {
   "cell_type": "markdown",
   "id": "98b80bac-c5be-45b0-88d6-201878659418",
   "metadata": {
    "tags": []
   },
   "source": [
    "### Loading the data\n",
    "\n",
    "We'll use GeoPandas to load the data into a GeoDataFrame:"
   ]
  },
  {
   "cell_type": "code",
   "execution_count": 4,
   "id": "f2bd59d1-c10e-4300-af58-7fd48d1a60c0",
   "metadata": {
    "tags": []
   },
   "outputs": [],
   "source": [
    "gedi_gdf = gpd.read_file(path, engine=\"pyogrio\")"
   ]
  },
  {
   "cell_type": "markdown",
   "id": "432495c6-4808-4c72-80d6-1d2859311edf",
   "metadata": {},
   "source": [
    "### Getting data on a map\n",
    "\n",
    "Since this is a point dataset, we can plot it with a `ScatterplotLayer`:"
   ]
  },
  {
   "cell_type": "code",
   "execution_count": 5,
   "id": "7be90b95-6611-4166-a8a6-03aaf9496804",
   "metadata": {
    "tags": []
   },
   "outputs": [],
   "source": [
    "layer = ScatterplotLayer.from_geopandas(gedi_gdf)\n",
    "m = Map(layers=[layer])"
   ]
  },
  {
   "cell_type": "markdown",
   "id": "19361b3c-125e-4451-9bd8-3afa0031fa03",
   "metadata": {},
   "source": [
    "Now just \"display\" the `Map` object by leaving it last in a cell, and a map should render with the data."
   ]
  },
  {
   "cell_type": "code",
   "execution_count": 6,
   "id": "9a2ae368-b50b-4b25-9062-aeff9faa9fb0",
   "metadata": {
    "tags": []
   },
   "outputs": [
    {
     "data": {
      "application/vnd.jupyter.widget-view+json": {
       "model_id": "8c7fc87e4ca447fa9702bd0673a9166f",
       "version_major": 2,
       "version_minor": 0
      },
      "text/plain": [
       "Map(layers=[ScatterplotLayer(table=pyarrow.Table\n",
       "BEAM: string\n",
       "agbd: float\n",
       "agbd_se: float\n",
       "sensitivity_a2: float…"
      ]
     },
     "metadata": {},
     "output_type": "display_data"
    }
   ],
   "source": [
    "m"
   ]
  },
  {
   "cell_type": "markdown",
   "id": "25ea5107-7640-4310-a49b-5d874e89d40d",
   "metadata": {},
   "source": [
    "The default styling of the points is just black, but we can change to another constant color by setting `get_fill_color` to an array of RGB colors:"
   ]
  },
  {
   "cell_type": "code",
   "execution_count": 7,
   "id": "89306d25-e749-4b7c-b1e4-28f689ec30c4",
   "metadata": {
    "tags": []
   },
   "outputs": [],
   "source": [
    "layer.get_fill_color = [200, 100, 100]"
   ]
  },
  {
   "cell_type": "markdown",
   "id": "031686ad-1a7c-42df-bacb-0ea295607c9c",
   "metadata": {},
   "source": [
    "After running the previous cell, you should see the map update the color of points to a reddish brown color.\n",
    "\n",
    "In this case, we'd really like to plot data _based on a statistic_. Let's plot based on the value of the `agbd` column. We'll use a linear colormap excluding the lowest and highest 10 percentiles of the data.\n",
    "\n",
    "First, we'll find what the values of the 10th and 90th percentile are:"
   ]
  },
  {
   "cell_type": "code",
   "execution_count": 8,
   "id": "b84bbbdb-a359-42f9-a3bb-6843b8737d24",
   "metadata": {
    "tags": []
   },
   "outputs": [],
   "source": [
    "q10 = gedi_gdf['agbd'].quantile(.1)\n",
    "q90 = gedi_gdf['agbd'].quantile(.9)"
   ]
  },
  {
   "cell_type": "markdown",
   "id": "82041d99-6282-4acc-87fe-f678224aeb2e",
   "metadata": {},
   "source": [
    "Then we can construct a \"normalizer\" based on [`Normalize`](https://matplotlib.org/stable/api/_as_gen/matplotlib.colors.Normalize.html) that will do linear rescaling between the two values we supply:"
   ]
  },
  {
   "cell_type": "code",
   "execution_count": 9,
   "id": "15ecb235-7cad-403a-a90f-f7be452b0c74",
   "metadata": {
    "tags": []
   },
   "outputs": [],
   "source": [
    "normalizer = mpl.colors.Normalize(q10, q90)"
   ]
  },
  {
   "cell_type": "markdown",
   "id": "8059f4ba-c12a-4b68-9884-f1c44b4aad19",
   "metadata": {},
   "source": [
    "Calling this `normalizer` on our data will return a scaled version ranging between 0 and 1:"
   ]
  },
  {
   "cell_type": "code",
   "execution_count": 10,
   "id": "57b8ff73-7fa7-40fe-ba7c-1ba14e5bc7c4",
   "metadata": {
    "tags": []
   },
   "outputs": [
    {
     "data": {
      "text/plain": [
       "masked_array(data=[ 0.42096179, -0.05778629,  0.19115537, ...,\n",
       "                    0.19018107, -0.08210574, -0.08331736],\n",
       "             mask=False,\n",
       "       fill_value=1e+20)"
      ]
     },
     "execution_count": 10,
     "metadata": {},
     "output_type": "execute_result"
    }
   ],
   "source": [
    "normalized_agbd = normalizer(gedi_gdf['agbd'])\n",
    "normalized_agbd"
   ]
  },
  {
   "cell_type": "markdown",
   "id": "a8ddd020-015d-42b9-878d-69d369757bb4",
   "metadata": {},
   "source": [
    "We can now construct color values by taking a Matplotlib colormap and calling it on our normalized values. Ensure you use `bytes=True` when calling the colormap object so that the output colors range from 0-255 and not 0-1."
   ]
  },
  {
   "cell_type": "code",
   "execution_count": 11,
   "id": "39274fba-f1c2-4d90-aa3f-5cfffc82449c",
   "metadata": {
    "tags": []
   },
   "outputs": [],
   "source": [
    "viridis_colormap = mpl.colormaps[\"viridis_r\"]\n",
    "layer.get_fill_color = viridis_colormap(normalized_agbd, bytes=True)\n",
    "layer.radius_min_pixels = 1"
   ]
  },
  {
   "cell_type": "markdown",
   "id": "e410670d-6236-4936-9b6f-ac521bae176f",
   "metadata": {},
   "source": [
    "The map should now have updated to show points colored by their `agbd` value. To remind ourselves what the high and low values are, we can inspect the colormap object itself:"
   ]
  },
  {
   "cell_type": "code",
   "execution_count": 12,
   "id": "231594db-46ef-47eb-8b55-0b32c3a6ece0",
   "metadata": {
    "tags": []
   },
   "outputs": [
    {
     "data": {
      "image/png": "[encoded data removed]",
      "text/html": [
       "<div style=\"vertical-align: middle;\"><strong>viridis_r</strong> </div><div class=\"cmap\"><img alt=\"viridis_r colormap\" title=\"viridis_r\" style=\"border: 1px solid #555;\" src=\"data:image/png;base64,iVBORw0KGgoAAAANSUhEUgAAAgAAAABACAYAAABsv8+/AAAAGHRFWHRUaXRsZQB2aXJpZGlzX3IgY29sb3JtYXA0MKMeAAAAHnRFWHREZXNjcmlwdGlvbgB2aXJpZGlzX3IgY29sb3JtYXB2q0WVAAAAMHRFWHRBdXRob3IATWF0cGxvdGxpYiB2My44LjEsIGh0dHBzOi8vbWF0cGxvdGxpYi5vcmc6+GhBAAAAMnRFWHRTb2Z0d2FyZQBNYXRwbG90bGliIHYzLjguMSwgaHR0cHM6Ly9tYXRwbG90bGliLm9yZxRe92YAAAImSURBVHic7dZBdpwwEEXRwmvJ/reVVTTKoMEcilbjdob/3omPCklgD5K3PP7+GVVVj7FWVdVaY/v5XD9GW+/Pt/n3uuq0/7Gtj3lb17LNl22+nObrOK+P+Vebf72eb+u1bubt3HHP/nyZ7N/f+/47puvv7+jf1daX+/vfp8/7PW3e/943z/v7Zu+Z7Rs3943Zuaq3+451ndaXffX6+Zicu873C9q+6vN9fT5fl/PndbVzt/Pq8+ePZXrufH6ZPL/Ob/ZPv+Nu/ul3TOb1ev7T8/+/b/zy3Kfrz95zrMfv7l/fP799zzp7b/892n8Il++d7Z/tO9+39PmPn0/m+/fdPJ+eX9fTelz2r21/m6/9XN+/vr13TN7z/FccAIgiAAAgkAAAgEACAAACCQAACCQAACCQAACAQAIAAAIJAAAIJAAAIJAAAIBAAgAAAgkAAAgkAAAgkAAAgEACAAACCQAACCQAACCQAACAQAIAAAIJAAAIJAAAIJAAAIBAAgAAAgkAAAgkAAAgkAAAgEACAAACCQAACCQAACCQAACAQAIAAAIJAAAIJAAAIJAAAIBAAgAAAgkAAAgkAAAgkAAAgEACAAACCQAACCQAACCQAACAQAIAAAIJAAAIJAAAIJAAAIBAAgAAAgkAAAgkAAAgkAAAgEACAAACCQAACCQAACCQAACAQAIAAAIJAAAIJAAAIJAAAIBAAgAAAgkAAAgkAAAgkAAAgED/AE+UgCcBrBTgAAAAAElFTkSuQmCC\"></div><div style=\"vertical-align: middle; max-width: 514px; display: flex; justify-content: space-between;\"><div style=\"float: left;\"><div title=\"#fde725ff\" style=\"display: inline-block; width: 1em; height: 1em; margin: 0; vertical-align: middle; border: 1px solid #555; background-color: #fde725ff;\"></div> under</div><div style=\"margin: 0 auto; display: inline-block;\">bad <div title=\"#00000000\" style=\"display: inline-block; width: 1em; height: 1em; margin: 0; vertical-align: middle; border: 1px solid #555; background-color: #00000000;\"></div></div><div style=\"float: right;\">over <div title=\"#440154ff\" style=\"display: inline-block; width: 1em; height: 1em; margin: 0; vertical-align: middle; border: 1px solid #555; background-color: #440154ff;\"></div></div>"
      ],
      "text/plain": [
       "<matplotlib.colors.ListedColormap at 0x7f1b2db483a0>"
      ]
     },
     "execution_count": 12,
     "metadata": {},
     "output_type": "execute_result"
    }
   ],
   "source": [
    "viridis_colormap"
   ]
  },
  {
   "cell_type": "markdown",
   "id": "61045340-76c1-4ada-8937-73ec65bd9c5e",
   "metadata": {},
   "source": [
    "For information on styling options for the map, consult the [ScatterplotLayer documentation](https://developmentseed.org/lonboard/latest/api/layers/scatterplot-layer/)."
   ]
  },
  {
   "cell_type": "code",
   "execution_count": null,
   "id": "3cea6752-7343-49f7-b457-e2f9539480c6",
   "metadata": {},
   "outputs": [],
   "source": []
  }
 ],
 "metadata": {
  "kernelspec": {
   "display_name": "Python 3 (ipykernel)",
   "language": "python",
   "name": "python3"
  },
  "language_info": {
   "codemirror_mode": {
    "name": "ipython",
    "version": 3
   },
   "file_extension": ".py",
   "mimetype": "text/x-python",
   "name": "python",
   "nbconvert_exporter": "python",
   "pygments_lexer": "ipython3",
   "version": "3.10.12"
  }
 },
 "nbformat": 4,
 "nbformat_minor": 5
}
