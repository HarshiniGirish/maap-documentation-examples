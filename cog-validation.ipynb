{
 "cells": [
  {
   "cell_type": "markdown",
   "id": "19e5a293-f326-46c1-8225-9a1b3f19357c",
   "metadata": {},
   "source": [
    "# COG Validation\n",
    "Notebook template for validating COG vs Non-COG"
   ]
  },
  {
   "cell_type": "markdown",
   "id": "a8761220-3b3f-4c0f-be4c-046db5d3b4b3",
   "metadata": {},
   "source": [
    "## Importing files"
   ]
  },
  {
   "cell_type": "code",
   "execution_count": 12,
   "id": "e3c1532e-c351-4e6d-858c-14fdcf421e79",
   "metadata": {
    "tags": []
   },
   "outputs": [],
   "source": [
    "import rasterio\n",
    "import numpy"
   ]
  },
  {
   "cell_type": "markdown",
   "id": "c59d2ae8-8d53-44ac-aaf4-34787ab388d1",
   "metadata": {},
   "source": [
    "## Read generated non-COG output"
   ]
  },
  {
   "cell_type": "code",
   "execution_count": 13,
   "id": "df1f231f-4551-4942-aa05-af3f865af07c",
   "metadata": {
    "tags": []
   },
   "outputs": [],
   "source": [
    "with rasterio.open(\"IPCC_10S_060W_NO-COG.tif\") as src:\n",
    "   arr = src.read()"
   ]
  },
  {
   "cell_type": "markdown",
   "id": "3b20a0b4-115c-40db-af99-d6cd667f0ee6",
   "metadata": {},
   "source": [
    "## Read generated COG output"
   ]
  },
  {
   "cell_type": "code",
   "execution_count": 14,
   "id": "8a5dd166-6f75-4984-a62b-6bd099c6d226",
   "metadata": {
    "tags": []
   },
   "outputs": [],
   "source": [
    "with rasterio.open(\"IPCC_10S_060W.tif\") as src:\n",
    "   arr_cog = src.read()"
   ]
  },
  {
   "cell_type": "markdown",
   "id": "49541a10-54fc-4b06-ba66-89e299f5c412",
   "metadata": {},
   "source": [
    "## Check if COG is a valid COG"
   ]
  },
  {
   "cell_type": "code",
   "execution_count": 15,
   "id": "573891c5-ca1c-4a1b-b145-f8a938d702fb",
   "metadata": {
    "tags": []
   },
   "outputs": [
    {
     "name": "stdout",
     "output_type": "stream",
     "text": [
      "/projects/my-public-bucket/neha_issue/IPCC_10S_060W.tif is a valid cloud optimized GeoTIFF\n"
     ]
    }
   ],
   "source": [
    "!rio cogeo validate \"IPCC_10S_060W.tif\""
   ]
  },
  {
   "cell_type": "markdown",
   "id": "5bee6946-02ba-4de4-b664-f87810060f06",
   "metadata": {},
   "source": [
    "## Run validation tests"
   ]
  },
  {
   "cell_type": "code",
   "execution_count": 16,
   "id": "18b89264-c408-497a-805e-1852ed68ba2b",
   "metadata": {
    "tags": []
   },
   "outputs": [],
   "source": [
    "#Would not output anything if both the COG and non-COG files have equal values\n",
    "numpy.testing.assert_array_equal(arr, arr_cog)"
   ]
  }
 ],
 "metadata": {
  "kernelspec": {
   "display_name": "Python 3 (ipykernel)",
   "language": "python",
   "name": "python3"
  },
  "language_info": {
   "codemirror_mode": {
    "name": "ipython",
    "version": 3
   },
   "file_extension": ".py",
   "mimetype": "text/x-python",
   "name": "python",
   "nbconvert_exporter": "python",
   "pygments_lexer": "ipython3",
   "version": "3.10.12"
  }
 },
 "nbformat": 4,
 "nbformat_minor": 5
}
