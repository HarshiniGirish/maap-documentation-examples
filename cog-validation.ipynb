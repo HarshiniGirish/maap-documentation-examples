{
 "cells": [
  {
   "cell_type": "markdown",
   "id": "19e5a293-f326-46c1-8225-9a1b3f19357c",
   "metadata": {},
   "source": [
    "# COG Validation\n",
    "Notebook template for validating COG vs Non-COG"
   ]
  },
  {
   "cell_type": "markdown",
   "id": "a8761220-3b3f-4c0f-be4c-046db5d3b4b3",
   "metadata": {},
   "source": [
    "## Importing files"
   ]
  },
  {
   "cell_type": "code",
   "execution_count": 2,
   "id": "e3c1532e-c351-4e6d-858c-14fdcf421e79",
   "metadata": {
    "tags": []
   },
   "outputs": [],
   "source": [
    "import rasterio\n",
    "import numpy\n",
    "from rio_cogeo.cogeo import cog_validate"
   ]
  },
  {
   "cell_type": "markdown",
   "id": "eddbba75-7ce9-4da7-b336-3837ed2dd827",
   "metadata": {},
   "source": [
    "## Define file paths"
   ]
  },
  {
   "cell_type": "code",
   "execution_count": 9,
   "id": "637dbfee-ab73-4a46-9f55-1b013b801322",
   "metadata": {
    "tags": []
   },
   "outputs": [],
   "source": [
    "cog_file_path = \"IPCC_10S_060W.tif\"\n",
    "non_cog_file_path = \"IPCC_10S_060W_NO-COG.tif\""
   ]
  },
  {
   "cell_type": "markdown",
   "id": "c59d2ae8-8d53-44ac-aaf4-34787ab388d1",
   "metadata": {},
   "source": [
    "## Read generated non-COG output"
   ]
  },
  {
   "cell_type": "code",
   "execution_count": 4,
   "id": "df1f231f-4551-4942-aa05-af3f865af07c",
   "metadata": {
    "tags": []
   },
   "outputs": [],
   "source": [
    "with rasterio.open(non_cog_file_path) as src:\n",
    "   arr = src.read()"
   ]
  },
  {
   "cell_type": "markdown",
   "id": "3b20a0b4-115c-40db-af99-d6cd667f0ee6",
   "metadata": {},
   "source": [
    "## Read generated COG output"
   ]
  },
  {
   "cell_type": "code",
   "execution_count": 5,
   "id": "8a5dd166-6f75-4984-a62b-6bd099c6d226",
   "metadata": {
    "tags": []
   },
   "outputs": [],
   "source": [
    "with rasterio.open(cog_file_path) as src:\n",
    "   arr_cog = src.read()"
   ]
  },
  {
   "cell_type": "markdown",
   "id": "49541a10-54fc-4b06-ba66-89e299f5c412",
   "metadata": {},
   "source": [
    "## Check if COG is a valid COG"
   ]
  },
  {
   "cell_type": "code",
   "execution_count": 13,
   "id": "dd661b55-0a16-403c-b6d7-575e3b52e599",
   "metadata": {
    "tags": []
   },
   "outputs": [
    {
     "data": {
      "text/plain": [
       "(True, [], [])"
      ]
     },
     "execution_count": 13,
     "metadata": {},
     "output_type": "execute_result"
    }
   ],
   "source": [
    "# Uses https://github.com/cogeotiff/rio-cogeo/blob/main/rio_cogeo/cogeo.py\n",
    "# Output: (boolean value for COG validation, list of errors, list of warnings)\n",
    "cog_validate(cog_file_path)"
   ]
  },
  {
   "cell_type": "markdown",
   "id": "5bee6946-02ba-4de4-b664-f87810060f06",
   "metadata": {},
   "source": [
    "## Run validation tests"
   ]
  },
  {
   "cell_type": "code",
   "execution_count": 16,
   "id": "18b89264-c408-497a-805e-1852ed68ba2b",
   "metadata": {
    "tags": []
   },
   "outputs": [],
   "source": [
    "#Would not output anything if both the COG and non-COG files have equal values\n",
    "numpy.testing.assert_array_equal(arr, arr_cog)"
   ]
  }
 ],
 "metadata": {
  "kernelspec": {
   "display_name": "Python 3 (ipykernel)",
   "language": "python",
   "name": "python3"
  },
  "language_info": {
   "codemirror_mode": {
    "name": "ipython",
    "version": 3
   },
   "file_extension": ".py",
   "mimetype": "text/x-python",
   "name": "python",
   "nbconvert_exporter": "python",
   "pygments_lexer": "ipython3",
   "version": "3.10.12"
  }
 },
 "nbformat": 4,
 "nbformat_minor": 5
}
