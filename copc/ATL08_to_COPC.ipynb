{
 "cells": [
  {
   "cell_type": "markdown",
   "id": "ccd4b6a8",
   "metadata": {},
   "source": [
    "# Convert HDF5 to COPC\n",
    "\n",
    "Switch to the PDAL conda env\n",
    "Execute the pipeline to convert\n"
   ]
  },
  {
   "cell_type": "code",
   "execution_count": 1,
   "id": "20231e4f",
   "metadata": {},
   "outputs": [],
   "source": [
    "hdf_file = '/projects/testing/copc//ATL08_20211114213015_08161305_005_01.h5'\n",
    "pdal_pipeline = 'atl08_hdf-to-las.json'\n",
    "copc_file = hdf_file.replace('h5', 'copc.laz')"
   ]
  },
  {
   "cell_type": "code",
   "execution_count": 5,
   "id": "66de72ab",
   "metadata": {},
   "outputs": [
    {
     "name": "stdout",
     "output_type": "stream",
     "text": [
      "PDAL: writers.copc: Unexpected argument 'extra_dims'.\n",
      "\n"
     ]
    }
   ],
   "source": [
    "!pdal pipeline {pdal_pipeline} \\\n",
    "      --readers.hdf.filename={hdf_file} \\\n",
    "      --writers.copc.filename={copc_file}"
   ]
  }
 ],
 "metadata": {
  "kernelspec": {
   "display_name": "Python [conda env:pdal24]",
   "language": "python",
   "name": "conda-env-pdal24-py"
  },
  "language_info": {
   "codemirror_mode": {
    "name": "ipython",
    "version": 3
   },
   "file_extension": ".py",
   "mimetype": "text/x-python",
   "name": "python",
   "nbconvert_exporter": "python",
   "pygments_lexer": "ipython3",
   "version": "3.10.6"
  }
 },
 "nbformat": 4,
 "nbformat_minor": 5
}
