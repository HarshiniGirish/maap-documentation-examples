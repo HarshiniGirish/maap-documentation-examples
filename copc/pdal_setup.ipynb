{
 "cells": [
  {
   "cell_type": "markdown",
   "id": "f2a1d303",
   "metadata": {},
   "source": [
    "# Convert ATL08 to COPC\n",
    "\n",
    "1. Setup a Conda Env with pdal\n",
    "1. Grab a PDAL pipeline example\n",
    "1. Edit the writer to `writers.copc`\n",
    "1. Grab an ATL08 sample file from CMR (HDF5 format)\n",
    "1. Run PDAL to convert to COPC by changing the writer"
   ]
  },
  {
   "cell_type": "markdown",
   "id": "90c00c20",
   "metadata": {},
   "source": [
    "Need an env with newer pdal\n",
    "\n",
    "Copy and Paste these to terminal\n",
    "```\n",
    "conda install -y -c conda-forge mamba\n",
    "mamba create -n pdal24 -c conda-forge pdal=2.4.3 ipykernel\n",
    "conda activate pdal24\n",
    "python3 -m ipykernel install --user\n",
    "```"
   ]
  },
  {
   "cell_type": "code",
   "execution_count": null,
   "id": "d2609e70",
   "metadata": {},
   "outputs": [],
   "source": [
    "!curl --output atl08_hdf-to-las.json https://raw.githubusercontent.com/MAAP-Project/maap-cumulus-dockers/master/cumulus-point-cloud-tools/hdf-to-las.json?token=GHSAT0AAAAAABHMTCL6TZGKZWHXG3TECFVWYZEX55Q"
   ]
  },
  {
   "cell_type": "code",
   "execution_count": 3,
   "id": "4bc5a679",
   "metadata": {},
   "outputs": [],
   "source": [
    "import os\n",
    "from maap.maap import MAAP\n",
    "maap = MAAP(maap_host='api.ops.maap-project.org')"
   ]
  },
  {
   "cell_type": "code",
   "execution_count": 2,
   "id": "b55edc1a",
   "metadata": {},
   "outputs": [],
   "source": [
    "# generated from this EDSC search: https://ade.ops.maap-project.org:30052/search/granules?p=C1201746153-NASA_MAAP&pg[0][id]=ATL08_20211114213015_08161305_005_01.h5&q=ATL08&sb=5.213326411490016%2C60.17314106554384%2C5.71614812755172%2C60.686527285836114&m=73.10686262188986!13.181884801534522!3!1!0!0%2C2&tl=1647548422!4!!\n",
    "results = maap.searchGranule(concept_id=\"C1201746153-NASA_MAAP\", readable_granule_name=\"ATL08_20211114213015_08161305_005_01.h5\", limit=1000)"
   ]
  },
  {
   "cell_type": "code",
   "execution_count": 5,
   "id": "4c1e44f6",
   "metadata": {},
   "outputs": [
    {
     "data": {
      "text/plain": [
       "'/projects/testing/copc//ATL08_20211114213015_08161305_005_01.h5'"
      ]
     },
     "execution_count": 5,
     "metadata": {},
     "output_type": "execute_result"
    }
   ],
   "source": [
    "data_file = results[0]\n",
    "dataDir = '/projects/testing/copc'\n",
    "if not os.path.exists(dataDir): os.mkdir(dataDir)\n",
    "data = data_file.getLocalPath(dataDir)\n",
    "data"
   ]
  }
 ],
 "metadata": {
  "kernelspec": {
   "display_name": "Python [conda env:root] *",
   "language": "python",
   "name": "conda-root-py"
  },
  "language_info": {
   "codemirror_mode": {
    "name": "ipython",
    "version": 3
   },
   "file_extension": ".py",
   "mimetype": "text/x-python",
   "name": "python",
   "nbconvert_exporter": "python",
   "pygments_lexer": "ipython3",
   "version": "3.7.8"
  }
 },
 "nbformat": 4,
 "nbformat_minor": 5
}
