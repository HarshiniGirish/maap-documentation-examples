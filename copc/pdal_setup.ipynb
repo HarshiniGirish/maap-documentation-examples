{
 "cells": [
  {
   "cell_type": "markdown",
   "id": "ac298754",
   "metadata": {},
   "source": [
    "# Convert ATL08 to COPC\n",
    "\n",
    "1. Setup a Conda Env with pdal\n",
    "1. Grab a PDAL pipeline example\n",
    "\n",
    "See ATL08_to_COPC.ipynb for:\n",
    "\n",
    "1. Edit the writer to `writers.copc`\n",
    "1. Grab an ATL08 sample file from CMR (HDF5 format)\n",
    "1. Run PDAL to convert to COPC by changing the writer"
   ]
  },
  {
   "cell_type": "markdown",
   "id": "448be0eb",
   "metadata": {},
   "source": [
    "Need an env with newer pdal\n",
    "\n",
    "Copy and Paste these to terminal\n",
    "```\n",
    "conda install -y -c conda-forge mamba\n",
    "mamba create -n pdal24 -c conda-forge pdal=2.4.3 ipykernel\n",
    "conda activate pdal24\n",
    "python3 -m ipykernel install --user\n",
    "```"
   ]
  },
  {
   "cell_type": "code",
   "execution_count": null,
   "id": "3a9c7b00",
   "metadata": {},
   "outputs": [],
   "source": [
    "!curl --output atl08_hdf-to-las.json https://raw.githubusercontent.com/MAAP-Project/maap-cumulus-dockers/master/cumulus-point-cloud-tools/hdf-to-las.json?token=GHSAT0AAAAAABHMTCL6TZGKZWHXG3TECFVWYZEX55Q"
   ]
  },
  {
   "cell_type": "code",
   "execution_count": 1,
   "id": "718cede7",
   "metadata": {},
   "outputs": [],
   "source": [
    "import os\n",
    "from maap.maap import MAAP\n",
    "maap = MAAP(maap_host='api.ops.maap-project.org')"
   ]
  },
  {
   "cell_type": "code",
   "execution_count": 2,
   "id": "b4e51a4a",
   "metadata": {},
   "outputs": [],
   "source": [
    "# generated from this EDSC search: https://ade.ops.maap-project.org:30052/search/granules?p=C1201746153-NASA_MAAP&q=ATL08&sb=4.961932328928242%2C59.41809206992055%2C12.272054031798717%2C66.73208639049496&m=22.5!-45!2!1!0!0%2C2&tl=1647806283!4!!\n",
    "test = maap.searchGranule(concept_id=\"C1201746153-NASA_MAAP\", limit=2000, bounding_box=\"4.961932328928242,59.41809206992055,12.272054031798717,66.73208639049496\")"
   ]
  },
  {
   "cell_type": "code",
   "execution_count": 11,
   "id": "f9cf4d3c",
   "metadata": {},
   "outputs": [
    {
     "data": {
      "text/plain": [
       "1816"
      ]
     },
     "execution_count": 11,
     "metadata": {},
     "output_type": "execute_result"
    }
   ],
   "source": [
    "len(test)"
   ]
  },
  {
   "cell_type": "code",
   "execution_count": 3,
   "id": "184ec896",
   "metadata": {},
   "outputs": [],
   "source": [
    "# generated from this EDSC search: https://ade.ops.maap-project.org:30052/search/granules?p=C1201746153-NASA_MAAP&pg[0][id]=ATL08_20211114213015_08161305_005_01.h5&q=ATL08&sb=5.213326411490016%2C60.17314106554384%2C5.71614812755172%2C60.686527285836114&m=73.10686262188986!13.181884801534522!3!1!0!0%2C2&tl=1647548422!4!!\n",
    "results = maap.searchGranule(concept_id=\"C1201746153-NASA_MAAP\", readable_granule_name=\"ATL08_20211114213015_08161305_005_01.h5\", limit=1000)"
   ]
  },
  {
   "cell_type": "code",
   "execution_count": 4,
   "id": "6cf6e279",
   "metadata": {},
   "outputs": [
    {
     "data": {
      "text/plain": [
       "'/projects/testing/copc/ATL08_20211114213015_08161305_005_01.h5'"
      ]
     },
     "execution_count": 4,
     "metadata": {},
     "output_type": "execute_result"
    }
   ],
   "source": [
    "data_file = results[0]\n",
    "dataDir = '/projects/testing/copc'\n",
    "if not os.path.exists(dataDir): os.mkdir(dataDir)\n",
    "data = data_file.getData(dataDir)\n",
    "data"
   ]
  }
 ],
 "metadata": {
  "kernelspec": {
   "display_name": "Python [conda env:root] *",
   "language": "python",
   "name": "conda-root-py"
  },
  "language_info": {
   "codemirror_mode": {
    "name": "ipython",
    "version": 3
   },
   "file_extension": ".py",
   "mimetype": "text/x-python",
   "name": "python",
   "nbconvert_exporter": "python",
   "pygments_lexer": "ipython3",
   "version": "3.7.8"
  }
 },
 "nbformat": 4,
 "nbformat_minor": 5
}
