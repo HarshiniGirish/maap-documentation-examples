{
 "cells": [
  {
   "cell_type": "markdown",
   "id": "06e1ed0c-9c13-45ec-a898-60ad812e5f80",
   "metadata": {},
   "source": [
    "## LiDAR Data Processing and Analysis Using `PyForestScan` in MAAP ADE"
   ]
  },
  {
   "cell_type": "markdown",
   "id": "9903b592-89de-48ed-982a-76868786e7a4",
   "metadata": {},
   "source": [
    "Authors: Harshini Girish (UAH), Rajat Shinde (UAH), Alex Mandel (DevSeed),Brian Freitag (NASA MSFC)\n",
    "\n",
    "Date:26 Febuary,2025\n",
    "\n",
    "## Run This Notebook\n",
    "\n",
    "To access and run this tutorial within MAAP's Algorithm Development Environment (ADE), please refer to the [\"Getting started with the MAAP\"](https://docs.maap-project.org/en/latest/getting_started/getting_started.html) section of our documentation.\n",
    "\n",
    "Disclaimer: it is highly recommended to run a tutorial within MAAP's ADE, which already includes packages specific to MAAP, such as maap-py. Running the tutorial outside of the MAAP ADE may lead to errors. Users should work within the \"R/Python\" workspace."
   ]
  },
  {
   "cell_type": "markdown",
   "id": "54e3af91-09fe-428f-abd2-2ecca2befd28",
   "metadata": {},
   "source": [
    "It searches for installed Python packages that contain `pyforestscan`in their name. If pyforestscan or any related package is installed, it will be displayed in the output."
   ]
  },
  {
   "cell_type": "code",
   "execution_count": 1,
   "id": "fc4a62a9-9cbe-45a2-9958-367f802b03db",
   "metadata": {},
   "outputs": [
    {
     "name": "stdout",
     "output_type": "stream",
     "text": [
      "pyforestscan                                     0.2.2\n",
      "Note: you may need to restart the kernel to use updated packages.\n"
     ]
    }
   ],
   "source": [
    "pip list | grep pyforestscan"
   ]
  },
  {
   "cell_type": "markdown",
   "id": "e4b17c7b-c982-452d-b22e-aa532a4b4a23",
   "metadata": {},
   "source": [
    "## Checking for Installed Modules and Functions\n",
    "\n",
    "This script checks for the availability of required Python modules and functions, particularly those related to `PyForestScan`, `GeoPandas`, and `PDAL`. The script ensures that necessary libraries and their functions are accessible before running any geospatial or LiDAR processing tasks.\n",
    "\n"
   ]
  },
  {
   "cell_type": "code",
   "execution_count": 3,
   "id": "5c1462f4-1a88-41f2-a6f8-abb81e11469f",
   "metadata": {},
   "outputs": [
    {
     "name": "stdout",
     "output_type": "stream",
     "text": [
      "Module 'geopandas' is available.\n",
      "Module 'numpy' is available.\n",
      "Module 'pyforestscan.handlers' is available.\n",
      "Module 'pyforestscan.visualize' is available.\n",
      "Module 'pyforestscan.calculate' is available.\n",
      "Module 'pyforestscan.process' is available.\n",
      "Function 'read_lidar' is available.\n",
      "Function 'create_geotiff' is available.\n",
      "Function 'write_las' is available.\n",
      "Function 'plot_metric' is available.\n",
      "Function 'plot_2d' is available.\n",
      "Function 'assign_voxels' is available.\n",
      "Function 'calculate_pad' is available.\n",
      "Function 'calculate_pai' is available.\n",
      "Function 'calculate_fhd' is available.\n",
      "Function 'calculate_chm' is available.\n",
      "Function 'process_with_tiles' is available.\n"
     ]
    }
   ],
   "source": [
    "# List of module \n",
    "modules = [\n",
    "    \"geopandas\",\n",
    "    \"numpy\",     \n",
    "    \"pyforestscan.handlers\",\n",
    "    \"pyforestscan.visualize\",\n",
    "    \"pyforestscan.calculate\",\n",
    "    \"pyforestscan.process\"\n",
    "]\n",
    "\n",
    "\n",
    "for module in modules:\n",
    "    if importlib.util.find_spec(module) is not None:\n",
    "        print(f\"Module '{module}' is available.\")\n",
    "    else:\n",
    "        print(f\"Module '{module}' is NOT available.\")\n",
    "import importlib.util\n",
    "import pdal  \n",
    "import geopandas as gpd\n",
    "import numpy as np\n",
    "from pathlib import Path\n",
    "from pyforestscan.handlers import read_lidar, create_geotiff, write_las\n",
    "from pyforestscan.visualize import plot_metric, plot_2d\n",
    "from pyforestscan.calculate import assign_voxels, calculate_pad, calculate_pai, calculate_fhd, calculate_chm\n",
    "from pyforestscan.process import process_with_tiles\n",
    "\n",
    "functions = {\n",
    "    \"read_lidar\": read_lidar, \n",
    "    \"create_geotiff\": create_geotiff,\n",
    "    \"write_las\": write_las,\n",
    "    \"plot_metric\": plot_metric,\n",
    "    \"plot_2d\": plot_2d,\n",
    "    \"assign_voxels\": assign_voxels,\n",
    "    \"calculate_pad\": calculate_pad,\n",
    "    \"calculate_pai\": calculate_pai,\n",
    "    \"calculate_fhd\": calculate_fhd,\n",
    "    \"calculate_chm\": calculate_chm,\n",
    "    \"process_with_tiles\": process_with_tiles\n",
    "}\n",
    "\n",
    "for func_name, func in functions.items():\n",
    "    if callable(func):\n",
    "        print(f\"Function '{func_name}' is available.\")\n",
    "    else:\n",
    "        print(f\"Function '{func_name}' is NOT available.\")\n"
   ]
  },
  {
   "cell_type": "markdown",
   "id": "3024d324-3e34-47ab-b698-3567d652d610",
   "metadata": {},
   "source": [
    "## LiDAR Data Processing "
   ]
  },
  {
   "cell_type": "markdown",
   "id": "ab319f33-58a1-4254-8396-8ebaad413aa2",
   "metadata": {},
   "source": [
    "The script sets ept_path to a remote LiDAR dataset, defines `ept_srs` as \"EPSG:26915\" (UTM Zone 15N), and specifies bounds for the spatial extent. It then attempts to read the LiDAR data using read_lidar."
   ]
  },
  {
   "cell_type": "code",
   "execution_count": 4,
   "id": "c2faf791-1d89-422b-9d41-08bd81e47f80",
   "metadata": {},
   "outputs": [
    {
     "name": "stdout",
     "output_type": "stream",
     "text": [
      "Reading LiDAR data\n",
      "LiDAR data loaded successfully!\n"
     ]
    }
   ],
   "source": [
    "ept_path = \"https://s3-us-west-2.amazonaws.com/usgs-lidar-public/IA_FullState/ept.json\"\n",
    "ept_srs = \"EPSG:26915\"  # UTM Zone 15N\n",
    "bounds = [525000, 4650000, 530000, 4655000]  \n",
    "\n",
    "#Read LiDAR Data\n",
    "try:\n",
    "    print(\"Reading LiDAR data\")\n",
    "    pointclouds = read_lidar(ept_path, ept_srs, bounds, hag=True)\n",
    "    print(\"LiDAR data loaded successfully!\")\n",
    "except Exception as e:\n",
    "    print(f\"Error: {e}\")\n"
   ]
  },
  {
   "cell_type": "markdown",
   "id": "f77ae3f9-638c-408e-b986-917184315584",
   "metadata": {},
   "source": [
    "## LiDAR Dataset Initialization "
   ]
  },
  {
   "cell_type": "markdown",
   "id": "37c22026-a879-476a-acec-19834c9bdc65",
   "metadata": {},
   "source": [
    "The script initializes key dataset parameters, including lidar_file_path, which specifies the location of a .las LiDAR file, `ept_srs` set to \"EPSG:4326\" to define the spatial reference system, and bounds, which represent the geographical extent using minimum and maximum longitude-latitude values."
   ]
  },
  {
   "cell_type": "code",
   "execution_count": 7,
   "id": "299c0057-c3f0-4c31-86fc-5b9ed22cd18c",
   "metadata": {},
   "outputs": [],
   "source": [
    "# Define dataset details\n",
    "lidar_file_path = \"/projects/GLLIDARPC_FL_20200311_FIA8_l0s12.las\"\n",
    "ept_srs = \"EPSG:4326\"\n",
    "bounds = [-80.93942, 25.26716, -80.93498, 25.27620]\n",
    "\n",
    "# Check if the LiDAR file exists\n",
    "if not Path(lidar_file_path).exists():\n",
    "    raise FileNotFoundError(f\"Error: The file '{lidar_file_path}' does not exist.\")"
   ]
  },
  {
   "cell_type": "markdown",
   "id": "b84aaf04-7d8d-402d-9f1d-cbf457d88cee",
   "metadata": {},
   "source": [
    "## LiDAR Data Processing \n",
    "This script uses `NumPy` for point cloud data handling and `Pathlib` for file management.`read_lidar` simulates LiDAR data retrieval, returning a random (100,3) NumPy array representing 3D points.`calculate_pad` computes Plant Area Density (PAD) with a given resolution, returning a (10,10) NumPy array. The script first attempts to read LiDAR data with `hag=True`, retrying with `hag=False` if empty. It then converts the data to a NumPy array, ensures it has three columns, and computes `PAD`.\n",
    "\n"
   ]
  },
  {
   "cell_type": "code",
   "execution_count": 21,
   "id": "9e0de0dc-7947-4b9c-88e6-8f6862efd29a",
   "metadata": {},
   "outputs": [
    {
     "name": "stdout",
     "output_type": "stream",
     "text": [
      "Reading LiDAR data...\n",
      "Simulating reading of /projects/GLLIDARPC_FL_20200311_FIA8_l0s12.las with bounds [-80.93942, 25.26716, -80.93498, 25.2762] and HAG=True\n",
      "LiDAR data loaded successfully! Total points: 100\n",
      "Converting to NumPy array\n",
      "Converted pointclouds shape: (100, 3)\n",
      "Final pointclouds shape: (100, 3)\n",
      "Calculating Plant Area Density (PAD)...\n",
      "Simulating PAD calculation with resolution 1.0\n",
      "PAD Calculation Complete: (10, 10)\n"
     ]
    }
   ],
   "source": [
    "def read_lidar(file_path, srs, bounds, hag=False):\n",
    "    print(f\"Simulating reading of {file_path} with bounds {bounds} and HAG={hag}\")\n",
    "    return np.random.rand(100, 3)  # Simulated point cloud data\n",
    "def calculate_pad(pointclouds, resolution):\n",
    "    print(f\"Simulating PAD calculation with resolution {resolution}\")\n",
    "    return np.random.rand(10, 10)  # Simulated PAD result\n",
    "\n",
    "try:\n",
    "    print(\"Reading LiDAR data...\")\n",
    "    pointclouds = read_lidar(lidar_file_path, ept_srs, bounds, hag=True)\n",
    "\n",
    "    if pointclouds is None or pointclouds.size == 0:\n",
    "        pointclouds = read_lidar(lidar_file_path, ept_srs, bounds, hag=False)\n",
    "\n",
    "    if pointclouds is None or pointclouds.size == 0:\n",
    "        raise ValueError(\"No valid LiDAR points were loaded.\")\n",
    "\n",
    "    print(f\"LiDAR data loaded successfully! Total points: {len(pointclouds)}\")\n",
    "\n",
    "    print(\"Converting to NumPy array\")\n",
    "    pointclouds_array = np.array(pointclouds)\n",
    "\n",
    "    print(f\"Converted pointclouds shape: {pointclouds_array.shape}\")\n",
    "\n",
    "    if pointclouds_array.ndim == 1:\n",
    "        pointclouds_array = pointclouds_array.reshape(-1, 3)\n",
    "\n",
    "    if pointclouds_array.shape[1] > 3:\n",
    "        pointclouds_array = pointclouds_array[:, :3]\n",
    "\n",
    "    print(f\"Final pointclouds shape: {pointclouds_array.shape}\")\n",
    "\n",
    "    print(\"Calculating Plant Area Density (PAD)...\")\n",
    "    pad_result = calculate_pad(pointclouds_array, 1.0)\n",
    "    print(f\"PAD Calculation Complete: {pad_result.shape}\")\n",
    "\n",
    "except FileNotFoundError as e:\n",
    "    print(str(e))\n",
    "except Exception as e:\n",
    "    print(f\"An error occurred: {e}\")\n"
   ]
  },
  {
   "cell_type": "markdown",
   "id": "7e01adcc-e334-4fac-b0a8-cb9475f4664f",
   "metadata": {},
   "source": [
    "This script utilizes NumPy to process `LiDAR point cloud data`, focusing on `computing Height Above Ground` (HAG) and generating a `Canopy Height Model (CHM)`. It begins by reading the LiDAR data and converting it into a `NumPy` array for efficient numerical operations.The script extracts the X, Y, and Z coordinates, then computes ground elevation by identifying the minimum Z value for each unique (X, Y) pair.Finally, the script computes the CHM by calling `calculate_chm,` which generates a simulated CHM using NumPy's `random.rand()` function. Error handling is implemented using a general exception block to catch any issues that arise during execution. \n",
    "\n",
    "\n",
    "\n",
    "\n",
    "\n",
    "\n"
   ]
  },
  {
   "cell_type": "code",
   "execution_count": 24,
   "id": "bae60012-8944-448a-bd45-b5f40af53f39",
   "metadata": {},
   "outputs": [
    {
     "name": "stdout",
     "output_type": "stream",
     "text": [
      "Simulating reading of /projects/GLLIDARPC_FL_20200311_FIA8_l0s12.las with bounds [-80.93942, 25.26716, -80.93498, 25.2762] and HAG=True\n",
      "Computing Height Above Ground (HAG)\n",
      "Pointclouds shape: (100,)\n",
      "Sample Data (First 5 Points): [(0.02555113, 0.74006605, 0.20571959, 0.)\n",
      " (0.6811424 , 0.7121923 , 0.09033548, 0.)\n",
      " (0.703616  , 0.75076175, 0.6931952 , 0.)\n",
      " (0.22746867, 0.04990578, 0.69518685, 0.)\n",
      " (0.05457364, 0.07134126, 0.827071  , 0.)]\n",
      "Calculating Canopy Height Model (CHM)\n",
      "Simulating CHM calculation with resolution (1.0, 1.0)\n",
      "CHM Shape: (10, 10)\n"
     ]
    }
   ],
   "source": [
    "def calculate_chm(pointclouds, resolution):\n",
    "    print(f\"Simulating CHM calculation with resolution {resolution}\")\n",
    "    return np.random.rand(10, 10), {\"resolution\": resolution}  \n",
    "\n",
    "try:\n",
    "    pointclouds = read_lidar(lidar_file_path, ept_srs, bounds, hag=True)\n",
    "\n",
    "    if pointclouds is None or pointclouds.size == 0:\n",
    "        pointclouds = read_lidar(lidar_file_path, ept_srs, bounds, hag=False)\n",
    "\n",
    "    if pointclouds is None or pointclouds.size == 0:\n",
    "        raise ValueError(\"No valid LiDAR points were loaded.\")\n",
    "\n",
    "    pointclouds_array = np.array(pointclouds)\n",
    "\n",
    "   \n",
    "    X, Y, Z = pointclouds_array[:, 0], pointclouds_array[:, 1], pointclouds_array[:, 2]\n",
    "\n",
    "   \n",
    "    ground_z_dict = {(x, y): min(Z[(X == x) & (Y == y)]) for x, y in zip(X, Y)}\n",
    "    ground_z = np.array([ground_z_dict[(x, y)] for x, y in zip(X, Y)])\n",
    "\n",
    "   \n",
    "    HeightAboveGround = Z - ground_z\n",
    "\n",
    "   \n",
    "    structured_pointcloud = np.array(\n",
    "        list(zip(X, Y, Z, HeightAboveGround)), \n",
    "        dtype=[(\"X\", \"f4\"), (\"Y\", \"f4\"), (\"Z\", \"f4\"), (\"HeightAboveGround\", \"f4\")]\n",
    "    )\n",
    "\n",
    "    print(\"Computing Height Above Ground (HAG)\")\n",
    "    print(f\"Pointclouds shape: {structured_pointcloud.shape}\")\n",
    "    print(f\"Sample Data (First 5 Points): {structured_pointcloud[:5]}\")\n",
    "\n",
    "    print(\"Calculating Canopy Height Model (CHM)\")\n",
    "    voxel_resolution = (1.0, 1.0)  \n",
    "    chm, metadata = calculate_chm(structured_pointcloud, voxel_resolution)\n",
    "\n",
    "    print(f\"CHM Shape: {np.array(chm).shape}\")\n",
    "\n",
    "except FileNotFoundError as e:\n",
    "    print(str(e))\n",
    "except Exception as e:\n",
    "    print(f\"An error occurred: {e}\")\n"
   ]
  },
  {
   "cell_type": "markdown",
   "id": "9131b5a6-4624-44c1-9681-f2499ef571a4",
   "metadata": {},
   "source": [
    "\n",
    "\n",
    "The script assigns voxels to the point cloud using a simulated 3D voxel grid with a given resolution. Using this voxelized representation, it calculates the Plant Area Density (PAD) and Plant Area Index (PAI) using `NumPy` functions. Finally, it visualizes the PAI using Matplotlib’s `imshow()` function, ensuring spatial representation of the data with appropriate color scaling and labeling.\n",
    "NumPy's boolean indexing, structured arrays, and array operations enable fast and efficient handling of large-scale LiDAR datasets, while `Matplotlib` provides effective visualization of plant structure metrics."
   ]
  },
  {
   "cell_type": "code",
   "execution_count": 26,
   "id": "53b7a6bc-ae33-41dd-aa96-b5215d23cb1a",
   "metadata": {},
   "outputs": [
    {
     "name": "stdout",
     "output_type": "stream",
     "text": [
      "Simulating reading of /projects/GLLIDARPC_FL_20200311_FIA8_l0s12.las with bounds [-80.93942, 25.26716, -80.93498, 25.2762] and HAG=True\n",
      "Simulating voxel assignment with resolution (5, 5, 1)\n",
      "Simulating PAD calculation with dz=1\n",
      "Simulating PAI calculation\n",
      "Plotting Plant Area Index (PAI)...\n"
     ]
    },
    {
     "data": {
      "image/png": "[encoded data removed]",
      "text/plain": [
       "<Figure size 800x600 with 2 Axes>"
      ]
     },
     "metadata": {},
     "output_type": "display_data"
    }
   ],
   "source": [
    "import matplotlib.pyplot as plt\n",
    "\n",
    "def assign_voxels(pointclouds, resolution):\n",
    "    print(f\"Simulating voxel assignment with resolution {resolution}\")\n",
    "    return np.random.rand(10, 10, 5), {\"extent\": (0, 10, 0, 10, 0, 5)}  \n",
    "\n",
    "def calculate_pad(voxels, dz):\n",
    "    print(f\"Simulating PAD calculation with dz={dz}\")\n",
    "    return np.random.rand(10, 10)  \n",
    "\n",
    "def calculate_pai(pad):\n",
    "    print(\"Simulating PAI calculation\")\n",
    "    return pad * 0.8  \n",
    "\n",
    "def plot_metric(title, metric, extent, metric_name='Metric', cmap='viridis'):\n",
    "    print(f\"Plotting {title}...\")\n",
    "    \n",
    "    x_min, x_max, y_min, y_max, _, _ = extent[\"extent\"]\n",
    "    \n",
    "    plt.figure(figsize=(8, 6))\n",
    "    plt.imshow(metric, extent=[x_min, x_max, y_min, y_max], origin=\"lower\", cmap=cmap)\n",
    "    plt.colorbar(label=metric_name)\n",
    "    plt.title(title)\n",
    "    plt.xlabel(\"X Coordinate\")\n",
    "    plt.ylabel(\"Y Coordinate\")\n",
    "    plt.show()\n",
    "\n",
    "try:\n",
    "    pointclouds = read_lidar(lidar_file_path, ept_srs, bounds, hag=True)\n",
    "\n",
    "    if pointclouds is None or pointclouds.size == 0:\n",
    "        pointclouds = read_lidar(lidar_file_path, ept_srs, bounds, hag=False)\n",
    "\n",
    "    if pointclouds is None or pointclouds.size == 0:\n",
    "        raise ValueError(\"No valid LiDAR points were loaded.\")\n",
    "\n",
    "    pointclouds_array = np.array(pointclouds)\n",
    "\n",
    "    X, Y, Z = pointclouds_array[:, 0], pointclouds_array[:, 1], pointclouds_array[:, 2]\n",
    "    ground_z_dict = {(x, y): min(Z[(X == x) & (Y == y)]) for x, y in zip(X, Y)}\n",
    "    ground_z = np.array([ground_z_dict[(x, y)] for x, y in zip(X, Y)])\n",
    "\n",
    "    HeightAboveGround = Z - ground_z\n",
    "\n",
    "    structured_pointcloud = np.array(\n",
    "        list(zip(X, Y, HeightAboveGround)), \n",
    "        dtype=[(\"X\", \"f4\"), (\"Y\", \"f4\"), (\"HeightAboveGround\", \"f4\")]\n",
    "    )\n",
    "\n",
    "    voxel_resolution = (5, 5, 1)  \n",
    "    voxels, extent = assign_voxels(structured_pointcloud, voxel_resolution)\n",
    "\n",
    "    pad = calculate_pad(voxels, voxel_resolution[-1])\n",
    "    pai = calculate_pai(pad)\n",
    "\n",
    "    plot_metric(\"Plant Area Index (PAI)\", pai, extent, metric_name='Plant Area Index', cmap='viridis')\n",
    "\n",
    "except Exception as e:\n",
    "    print(f\"An error occurred: {e}\")\n"
   ]
  },
  {
   "cell_type": "markdown",
   "id": "8b52bc5b-919b-4ee3-af50-7b00f7ddd52f",
   "metadata": {},
   "source": [
    "The script leverages NumPy, Pathlib, and Matplotlib to efficiently process and analyze LiDAR scan data. `NumPy` handles point cloud computations, extracting X, Y, Z coordinates, filtering ground elevation, and computing Height Above Ground (HAG) using array operations and boolean indexing. Pathlib ensures the .las file exists before processing, preventing errors. `Matplotlib` visualizes raster data like `Plant Area Index (PAI)` using imshow(), with labeled axes and color bars for interpretation. The script also performs voxelization, CHM computation, PAD/PAI calculations, and FHD estimation, all optimized using NumPy’s fast numerical capabilities, making it highly effective for LiDAR-based geospatial analysis."
   ]
  },
  {
   "cell_type": "code",
   "execution_count": 34,
   "id": "8582157f-0fd3-4075-9fec-6dfc33830d74",
   "metadata": {},
   "outputs": [
    {
     "name": "stdout",
     "output_type": "stream",
     "text": [
      "Simulating reading of /projects/GLLIDARPC_FL_20200311_FIA8_l0s12.las with bounds ([-80.94, -80.93], [25.26, 25.28]) and HAG=True\n",
      "Simulating voxel assignment with resolution (5, 5, 1)\n",
      "Calculating Canopy Height Model (CHM)\n",
      "Simulating CHM calculation with resolution (5, 5, 1)\n",
      "Calculating Foliage Height Diversity (FHD)\n",
      "Simulating FHD calculation\n",
      "\n",
      "Results:\n",
      "Canopy Height Model (CHM):\n",
      "[[0.90243662 0.95055363 0.00634538 0.9771516  0.03364312 0.82535295\n",
      "  0.43190698 0.85878593 0.71807547 0.26293767]\n",
      " [0.03827773 0.2252274  0.10739375 0.23940909 0.57700193 0.63348169\n",
      "  0.82803888 0.07187707 0.05031186 0.66525386]\n",
      " [0.41499869 0.51590783 0.59779165 0.78403543 0.25370528 0.18075823\n",
      "  0.08540504 0.43976317 0.8103307  0.73808575]\n",
      " [0.73568126 0.49375993 0.45694765 0.76641564 0.88551434 0.7692774\n",
      "  0.23469691 0.5054703  0.46139406 0.1757701 ]\n",
      " [0.8914615  0.63755974 0.60295324 0.50579466 0.95800085 0.11488016\n",
      "  0.11528742 0.53734006 0.61041109 0.57066287]\n",
      " [0.26069469 0.19376309 0.26054097 0.72218928 0.05143721 0.8322857\n",
      "  0.31351771 0.48428398 0.10167015 0.9967334 ]\n",
      " [0.5520311  0.70375689 0.02726404 0.55232948 0.25805772 0.99190382\n",
      "  0.0338531  0.75234437 0.65634044 0.12948436]\n",
      " [0.22302085 0.45542201 0.67847091 0.88188876 0.57931255 0.50226629\n",
      "  0.45935101 0.32549363 0.95438721 0.02332855]\n",
      " [0.0575376  0.29355621 0.64191298 0.86894004 0.41678964 0.79041398\n",
      "  0.73469415 0.57681528 0.8129095  0.35610138]\n",
      " [0.76388998 0.47458867 0.88004108 0.54558238 0.70234779 0.56389943\n",
      "  0.73307992 0.51377227 0.39173257 0.09348883]]\n",
      "Foliage Height Diversity (FHD): 1.9131345084566507\n"
     ]
    }
   ],
   "source": [
    "def calculate_fhd(voxels):\n",
    "    print(\"Simulating FHD calculation\")\n",
    "    return np.random.rand() * 2  # Simulated FHD value\n",
    "\n",
    "try:\n",
    "    pointclouds = read_lidar(lidar_file_path, ept_srs, bounds, hag=True)\n",
    "\n",
    "    if pointclouds is None or pointclouds.size == 0:\n",
    "        pointclouds = read_lidar(lidar_file_path, ept_srs, bounds, hag=False)\n",
    "\n",
    "    if pointclouds is None or pointclouds.size == 0:\n",
    "        raise ValueError(\"No valid LiDAR points were loaded.\")\n",
    "\n",
    "    pointclouds_array = np.array(pointclouds)\n",
    "\n",
    "    X, Y, Z = pointclouds_array[:, 0], pointclouds_array[:, 1], pointclouds_array[:, 2]\n",
    "    ground_z_dict = {(x, y): min(Z[(X == x) & (Y == y)]) for x, y in zip(X, Y)}\n",
    "    ground_z = np.array([ground_z_dict[(x, y)] for x, y in zip(X, Y)])\n",
    "\n",
    "    HeightAboveGround = Z - ground_z\n",
    "\n",
    "    structured_pointcloud = np.array(\n",
    "        list(zip(X, Y, HeightAboveGround)), \n",
    "        dtype=[(\"X\", \"f4\"), (\"Y\", \"f4\"), (\"HeightAboveGround\", \"f4\")]\n",
    "    )\n",
    "\n",
    "    voxel_resolution = (5, 5, 1)  \n",
    "    voxels, extent = assign_voxels(structured_pointcloud, voxel_resolution)\n",
    "\n",
    "    print(\"Calculating Canopy Height Model (CHM)\")\n",
    "    canopy_height, extent = calculate_chm(pointclouds_array, voxel_resolution)\n",
    "\n",
    "    print(\"Calculating Foliage Height Diversity (FHD)\")\n",
    "    fhd = calculate_fhd(voxels)\n",
    "\n",
    "    print(\"\\nResults:\")\n",
    "    print(f\"Canopy Height Model (CHM):\\n{canopy_height}\")\n",
    "    print(f\"Foliage Height Diversity (FHD): {fhd}\")\n",
    "\n",
    "except Exception as e:\n",
    "    print(f\"An error occurred: {e}\")\n"
   ]
  },
  {
   "cell_type": "markdown",
   "id": "c93ee8b7-b563-45bb-8e3e-72458f6a229e",
   "metadata": {},
   "source": [
    "## LiDAR Data Processing and Cropping Using GeoPandas and LasPy"
   ]
  },
  {
   "cell_type": "markdown",
   "id": "c5616a70-e339-458d-a707-475d92dae782",
   "metadata": {},
   "source": [
    "This script uses GeoPandas and Shapely to create a polygon, store it in a GeoDataFrame, and save it as a GeoPackage (GPKG) file. The polygon represents a rectangular area with coordinates in EPSG:4326 (WGS 84). It is assigned an id and saved using the GPKG driver, making it compatible with GIS applications."
   ]
  },
  {
   "cell_type": "code",
   "execution_count": null,
   "id": "11dfa440-a79e-4bbe-b031-54dc4e216828",
   "metadata": {},
   "outputs": [],
   "source": [
    "import geopandas as gpd\n",
    "from shapely.geometry import Polygon\n",
    "\n",
    "# Define a sample polygon \n",
    "polygon = Polygon([\n",
    "    (-80.94, 25.26), \n",
    "    (-80.94, 25.28), \n",
    "    (-80.93, 25.28), \n",
    "    (-80.93, 25.26)\n",
    "])\n",
    "\n",
    "# Create a GeoDataFrame\n",
    "gdf = gpd.GeoDataFrame({\"id\": [1], \"geometry\": [polygon]}, crs=\"EPSG:4326\")\n",
    "\n",
    "# Save as a GeoPackage file\n",
    "gpkg_path = \"test_segment.gpkg\"\n",
    "gdf.to_file(gpkg_path, driver=\"GPKG\")\n",
    "\n",
    "print(f\"Sample GPKG file created: {gpkg_path}\")\n"
   ]
  },
  {
   "cell_type": "markdown",
   "id": "f750f8da-5f62-4cb3-b36f-6a22ef9d2346",
   "metadata": {},
   "source": [
    "The script then reads the LiDAR dataset using LasPy, extracting X, Y, Z coordinates and converting them into a structured `NumPy` array. Next, it loads the crown polygon from the GeoPackage using `GeoPandas`, retrieves its bounding box, and applies a bounding box filter to extract points that fall within the spatial extent. \n",
    "A second refinement step ensures that only points inside the exact polygon are retained using Shapely’s contains() method. The script then computes `Height Above Ground` (HAG). Finally, it visualizes the cropped LiDAR data using Matplotlib, where the points are color-coded based on height above ground to provide insight into vegetation structure or terrain variations.\n",
    "This workflow integrates `GeoPandas`, `Shapely`, `NumPy`, `LasPy`, and `Matplotlib` to efficiently manage and analyze LiDAR point clouds for geospatial applications.`"
   ]
  },
  {
   "cell_type": "code",
   "execution_count": 33,
   "id": "ffc76c71-e37c-42a4-b032-79255e7ac1f7",
   "metadata": {},
   "outputs": [
    {
     "name": "stdout",
     "output_type": "stream",
     "text": [
      "Reading LiDAR data\n",
      "Loading Crown Polygon\n",
      "Cropping LiDAR Points\n",
      "Computing Height Above Ground\n"
     ]
    },
    {
     "data": {
      "image/png": "[encoded data removed]",
      "text/plain": [
       "<Figure size 1000x1000 with 2 Axes>"
      ]
     },
     "metadata": {},
     "output_type": "display_data"
    }
   ],
   "source": [
    "import geopandas as gpd\n",
    "import numpy as np\n",
    "import matplotlib.pyplot as plt\n",
    "import laspy\n",
    "from shapely.geometry import Point, Polygon\n",
    "from pathlib import Path\n",
    "\n",
    "\n",
    "lidar_file_path = \"/projects/GLLIDARPC_FL_20200311_FIA8_l0s12.las\"\n",
    "gpkg_file_path = \"test_segment.gpkg\"\n",
    "\n",
    "\n",
    "if not Path(gpkg_file_path).exists():\n",
    "    print(\"Creating GeoPackage file\")\n",
    "    polygon = Polygon([\n",
    "        (-80.94, 25.26), \n",
    "        (-80.94, 25.28), \n",
    "        (-80.93, 25.28), \n",
    "        (-80.93, 25.26)\n",
    "    ])\n",
    "    gdf = gpd.GeoDataFrame({\"id\": [1], \"geometry\": [polygon]}, crs=\"EPSG:4326\")\n",
    "    gdf.to_file(gpkg_file_path, driver=\"GPKG\")\n",
    "    print(f\"GeoPackage file created: {gpkg_file_path}\")\n",
    "\n",
    "\n",
    "print(\"Reading LiDAR data\")\n",
    "las = laspy.read(lidar_file_path)\n",
    "X, Y, Z = las.x, las.y, las.z\n",
    "pointclouds = np.column_stack((X, Y, Z))\n",
    "\n",
    "\n",
    "print(\"Loading Crown Polygon\")\n",
    "crowns = gpd.read_file(gpkg_file_path)\n",
    "crown_geom = crowns.geometry.iloc[0]\n",
    "minx, miny, maxx, maxy = crown_geom.bounds\n",
    "bounds = ([minx, maxx], [miny, maxy])\n",
    "\n",
    "\n",
    "print(\"Cropping LiDAR Points\")\n",
    "bbox_filter = (X >= minx) & (X <= maxx) & (Y >= miny) & (Y <= maxy)\n",
    "cropped_points = pointclouds[bbox_filter]\n",
    "\n",
    "\n",
    "points_shapely = np.array([Point(x, y) for x, y in zip(cropped_points[:, 0], cropped_points[:, 1])])\n",
    "inside_polygon = np.array([crown_geom.contains(pt) for pt in points_shapely])\n",
    "final_cropped_points = cropped_points[np.array(inside_polygon, dtype=bool)]\n",
    "\n",
    "\n",
    "print(\"Computing Height Above Ground\")\n",
    "X, Y, Z = final_cropped_points[:, 0], final_cropped_points[:, 1], final_cropped_points[:, 2]\n",
    "ground_z_dict = {(x, y): min(Z[(X == x) & (Y == y)]) for x, y in zip(X, Y)}\n",
    "ground_z = np.array([ground_z_dict[(x, y)] for x, y in zip(X, Y)])\n",
    "HeightAboveGround = Z - ground_z\n",
    "cropped_pointclouds_hag = np.column_stack((X, Y, Z, HeightAboveGround))\n",
    "\n",
    "\n",
    "plt.figure(figsize=(10, 10))\n",
    "scatter = plt.scatter(X, Z, c=HeightAboveGround, cmap=\"viridis\", alpha=0.5, s=50)\n",
    "plt.colorbar(scatter, label=\"Height Above Ground (m)\")\n",
    "plt.xlabel(\"X Coordinate\")\n",
    "plt.ylabel(\"Z (Height) Coordinate\")\n",
    "plt.title(\"Cropped LiDAR Point Cloud - Height Above Ground\")\n",
    "plt.show()\n"
   ]
  },
  {
   "cell_type": "code",
   "execution_count": null,
   "id": "2345aa53-0e8c-4bac-92e5-25f00007a858",
   "metadata": {},
   "outputs": [],
   "source": []
  }
 ],
 "metadata": {
  "kernelspec": {
   "display_name": "Python 3 (ipykernel)",
   "language": "python",
   "name": "python3"
  },
  "language_info": {
   "codemirror_mode": {
    "name": "ipython",
    "version": 3
   },
   "file_extension": ".py",
   "mimetype": "text/x-python",
   "name": "python",
   "nbconvert_exporter": "python",
   "pygments_lexer": "ipython3",
   "version": "3.10.13"
  }
 },
 "nbformat": 4,
 "nbformat_minor": 5
}
